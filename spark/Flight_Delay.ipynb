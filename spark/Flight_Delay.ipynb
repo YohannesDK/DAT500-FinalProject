{
 "cells": [
  {
   "cell_type": "markdown",
   "metadata": {},
   "source": [
    "# DAT500 - FinalProject, Flight Delay Prediction\n",
    "\n",
    "Group Members:\n",
    "\n",
    "    - Brage Solheim\n",
    "    - Yohannes D. Kassaye"
   ]
  },
  {
   "cell_type": "markdown",
   "metadata": {},
   "source": [
    "## Introduction"
   ]
  },
  {
   "cell_type": "markdown",
   "metadata": {},
   "source": [
    "So far we have used map reduce jobs to find null values in our data, find mean and mode of each column, and fill null values with mean or mode."
   ]
  },
  {
   "cell_type": "markdown",
   "metadata": {},
   "source": [
    "We will be predicting flight delays based on data that is available prior to the day of the flight. <br>\n",
    "Such data could be weather, airport, airline, origin and destination, and other factors."
   ]
  },
  {
   "cell_type": "markdown",
   "metadata": {},
   "source": [
    "## Initlization"
   ]
  },
  {
   "cell_type": "code",
   "execution_count": 1,
   "metadata": {},
   "outputs": [
    {
     "data": {
      "text/plain": [
       "'/usr/local/spark'"
      ]
     },
     "execution_count": 1,
     "metadata": {},
     "output_type": "execute_result"
    }
   ],
   "source": [
    "import findspark\n",
    "findspark.init()\n",
    "findspark.find()"
   ]
  },
  {
   "cell_type": "code",
   "execution_count": 2,
   "metadata": {},
   "outputs": [
    {
     "name": "stderr",
     "output_type": "stream",
     "text": [
      "WARNING:root:'PYARROW_IGNORE_TIMEZONE' environment variable was not set. It is required to set this environment variable to '1' in both driver and executor sides if you use pyarrow>=2.0.0. pandas-on-Spark will set it for you but it does not work if there is a Spark context already launched.\n"
     ]
    }
   ],
   "source": [
    "from datetime import datetime, date\n",
    "import pandas as pd\n",
    "import numpy as np\n",
    "from pyspark.sql import Row\n",
    "from pyspark.sql import SparkSession\n",
    "import pyspark.pandas as ps"
   ]
  },
  {
   "cell_type": "code",
   "execution_count": 3,
   "metadata": {},
   "outputs": [],
   "source": [
    "ORIGINAL_DATA_PATH = \"hdfs:///data/airline_delay_data.csv\"\n",
    "CLEANED_DATA_PATH = \"hdfs:///data/airline_delay_data_cleaned.csv\"\n",
    "\n",
    "TEST_DATA_ORIGINAL_PATH = \"/data/2015.sample.csv\"\n",
    "TEST_DATA_CLEANED_PATH = \"/data/2015.sample.cleaned.csv\""
   ]
  },
  {
   "cell_type": "code",
   "execution_count": 4,
   "metadata": {},
   "outputs": [],
   "source": [
    "import warnings\n",
    "warnings.filterwarnings(\"ignore\")"
   ]
  },
  {
   "cell_type": "code",
   "execution_count": 5,
   "metadata": {},
   "outputs": [],
   "source": [
    "import pyspark\n",
    "conf = pyspark.SparkConf().setAll([(\"spark.driver.maxResultSize\", '4g'), (\"spark.sql.execution.arrow.pyspark.enabled\", 'true')])"
   ]
  },
  {
   "cell_type": "code",
   "execution_count": 6,
   "metadata": {},
   "outputs": [
    {
     "name": "stderr",
     "output_type": "stream",
     "text": [
      "Setting default log level to \"WARN\".\n",
      "To adjust logging level use sc.setLogLevel(newLevel). For SparkR, use setLogLevel(newLevel).\n",
      "2022-04-21 19:05:38,076 WARN util.NativeCodeLoader: Unable to load native-hadoop library for your platform... using builtin-java classes where applicable\n",
      "2022-04-21 19:05:46,285 WARN yarn.Client: Neither spark.yarn.jars nor spark.yarn.archive is set, falling back to uploading libraries under SPARK_HOME.\n"
     ]
    }
   ],
   "source": [
    "spark = (SparkSession\n",
    "            .builder\n",
    "            .master(\"yarn\") # for cluster\n",
    "            # .master(\"local[*]\") # for local testing\n",
    "            .config(conf=conf)\n",
    "            .appName(\"Flight-delay-prediction\")\n",
    "            .getOrCreate())\n",
    "\n",
    "sc = spark.sparkContext"
   ]
  },
  {
   "cell_type": "code",
   "execution_count": 7,
   "metadata": {},
   "outputs": [
    {
     "name": "stdout",
     "output_type": "stream",
     "text": [
      "[('spark.sql.warehouse.dir', 'file:/home/ubuntu/DAT500-FinalProject/spark/spark-warehouse'), ('spark.executor.id', 'driver'), ('spark.app.name', 'Flight-delay-prediction'), ('spark.app.startTime', '1650567937562'), ('spark.driver.port', '41669'), ('spark.driver.host', 'namenode'), ('spark.org.apache.hadoop.yarn.server.webproxy.amfilter.AmIpFilter.param.PROXY_URI_BASES', 'http://namenode:8088/proxy/application_1645016454320_0107'), ('spark.master', 'yarn'), ('spark.executorEnv.PYTHONPATH', '/usr/local/spark/python/:<CPS>{{PWD}}/pyspark.zip<CPS>{{PWD}}/py4j-0.10.9.3-src.zip'), ('spark.rdd.compress', 'True'), ('spark.serializer.objectStreamReset', '100'), ('spark.ui.proxyBase', '/proxy/application_1645016454320_0107'), ('spark.submit.pyFiles', ''), ('spark.yarn.isPython', 'true'), ('spark.submit.deployMode', 'client'), ('spark.app.id', 'application_1645016454320_0107'), ('spark.ui.filters', 'org.apache.hadoop.yarn.server.webproxy.amfilter.AmIpFilter'), ('spark.org.apache.hadoop.yarn.server.webproxy.amfilter.AmIpFilter.param.PROXY_HOSTS', 'namenode'), ('spark.driver.appUIAddress', 'http://namenode:4040'), ('spark.sql.execution.arrow.pyspark.enabled', 'true'), ('spark.driver.maxResultSize', '4g'), ('spark.ui.showConsoleProgress', 'true')]\n"
     ]
    }
   ],
   "source": [
    "print(sc.getConf().getAll())"
   ]
  },
  {
   "cell_type": "code",
   "execution_count": 8,
   "metadata": {},
   "outputs": [],
   "source": [
    "from pyspark.sql.types import StructType, StructField, StringType, DateType, DoubleType"
   ]
  },
  {
   "cell_type": "code",
   "execution_count": 9,
   "metadata": {},
   "outputs": [],
   "source": [
    "features = [\"FL_DATE\",\"OP_CARRIER\",\"OP_CARRIER_FL_NUM\",\"ORIGIN\",\"DEST\",\"CRS_DEP_TIME\",\"DEP_TIME\",\"DEP_DELAY\",\"TAXI_OUT\",\"WHEELS_OFF\",\"WHEELS_ON\",\"TAXI_IN\",\"CRS_ARR_TIME\",\"ARR_TIME\",\"ARR_DELAY\",\"CANCELLED\",\"DIVERTED\",\"CRS_ELAPSED_TIME\",\"ACTUAL_ELAPSED_TIME\",\"AIR_TIME\",\"DISTANCE\",\"CARRIER_DELAY\",\"WEATHER_DELAY\",\"NAS_DELAY\",\"SECURITY_DELAY\",\"LATE_AIRCRAFT_DELAY\"]\n",
    "nullable=False\n",
    "schema = StructType([\n",
    "    StructField(\"FL_DATE\", DateType(), nullable), StructField(\"OP_CARRIER\", StringType(), nullable), StructField(\"OP_CARRIER_FL_NUM\", DoubleType(), nullable),\n",
    "    StructField(\"ORIGIN\", StringType(), nullable), StructField(\"DEST\", StringType(), nullable), StructField(\"CRS_DEP_TIME\", DoubleType(), nullable),\n",
    "    StructField(\"DEP_TIME\", DoubleType(), nullable), StructField(\"DEP_DELAY\", DoubleType(), nullable), StructField(\"TAXI_OUT\", DoubleType(), nullable),\n",
    "    StructField(\"WHEELS_OFF\", DoubleType(), nullable), StructField(\"WHEELS_ON\", DoubleType(), nullable), StructField(\"TAXI_IN\", DoubleType(), nullable),\n",
    "    StructField(\"CRS_ARR_TIME\", DoubleType(), nullable), StructField(\"ARR_TIME\", DoubleType(), nullable), StructField(\"ARR_DELAY\", DoubleType(), nullable),\n",
    "    StructField(\"CANCELLED\", DoubleType(), nullable), StructField(\"DIVERTED\", DoubleType(), nullable), StructField(\"CRS_ELAPSED_TIME\", DoubleType(), nullable),\n",
    "    StructField(\"ACTUAL_ELAPSED_TIME\", DoubleType(), nullable), StructField(\"AIR_TIME\", DoubleType(), nullable), StructField(\"DISTANCE\", DoubleType(), nullable),\n",
    "    StructField(\"CARRIER_DELAY\", DoubleType(), nullable), StructField(\"WEATHER_DELAY\", DoubleType(), nullable), StructField(\"NAS_DELAY\", DoubleType(), nullable),\n",
    "    StructField(\"SECURITY_DELAY\", DoubleType(), nullable), StructField(\"LATE_AIRCRAFT_DELAY\", DoubleType(), nullable)])"
   ]
  },
  {
   "cell_type": "code",
   "execution_count": 10,
   "metadata": {},
   "outputs": [
    {
     "name": "stderr",
     "output_type": "stream",
     "text": [
      "2022-04-21 19:06:16,309 WARN window.WindowExec: No Partition Defined for Window operation! Moving all data to a single partition, this can cause serious performance degradation.\n",
      "2022-04-21 19:06:16,362 WARN window.WindowExec: No Partition Defined for Window operation! Moving all data to a single partition, this can cause serious performance degradation.\n",
      "2022-04-21 19:06:16,402 WARN util.package: Truncated the string representation of a plan since it was too large. This behavior can be adjusted by setting 'spark.sql.debug.maxToStringFields'.\n",
      "                                                                                \r"
     ]
    },
    {
     "data": {
      "text/html": [
       "<div>\n",
       "<style scoped>\n",
       "    .dataframe tbody tr th:only-of-type {\n",
       "        vertical-align: middle;\n",
       "    }\n",
       "\n",
       "    .dataframe tbody tr th {\n",
       "        vertical-align: top;\n",
       "    }\n",
       "\n",
       "    .dataframe thead th {\n",
       "        text-align: right;\n",
       "    }\n",
       "</style>\n",
       "<table border=\"1\" class=\"dataframe\">\n",
       "  <thead>\n",
       "    <tr style=\"text-align: right;\">\n",
       "      <th></th>\n",
       "      <th>FL_DATE</th>\n",
       "      <th>OP_CARRIER</th>\n",
       "      <th>OP_CARRIER_FL_NUM</th>\n",
       "      <th>ORIGIN</th>\n",
       "      <th>DEST</th>\n",
       "      <th>CRS_DEP_TIME</th>\n",
       "      <th>DEP_TIME</th>\n",
       "      <th>DEP_DELAY</th>\n",
       "      <th>TAXI_OUT</th>\n",
       "      <th>WHEELS_OFF</th>\n",
       "      <th>WHEELS_ON</th>\n",
       "      <th>TAXI_IN</th>\n",
       "      <th>CRS_ARR_TIME</th>\n",
       "      <th>ARR_TIME</th>\n",
       "      <th>ARR_DELAY</th>\n",
       "      <th>CANCELLED</th>\n",
       "      <th>DIVERTED</th>\n",
       "      <th>CRS_ELAPSED_TIME</th>\n",
       "      <th>ACTUAL_ELAPSED_TIME</th>\n",
       "      <th>AIR_TIME</th>\n",
       "      <th>DISTANCE</th>\n",
       "      <th>CARRIER_DELAY</th>\n",
       "      <th>WEATHER_DELAY</th>\n",
       "      <th>NAS_DELAY</th>\n",
       "      <th>SECURITY_DELAY</th>\n",
       "      <th>LATE_AIRCRAFT_DELAY</th>\n",
       "    </tr>\n",
       "  </thead>\n",
       "  <tbody>\n",
       "    <tr>\n",
       "      <th>0</th>\n",
       "      <td>2016-09-25</td>\n",
       "      <td>AA</td>\n",
       "      <td>2622.0</td>\n",
       "      <td>EGE</td>\n",
       "      <td>DFW</td>\n",
       "      <td>800.0</td>\n",
       "      <td>749.0</td>\n",
       "      <td>-11.0</td>\n",
       "      <td>11.0</td>\n",
       "      <td>800.0</td>\n",
       "      <td>1049.0</td>\n",
       "      <td>15.0</td>\n",
       "      <td>1110.0</td>\n",
       "      <td>1104.0</td>\n",
       "      <td>-6.0</td>\n",
       "      <td>0.0</td>\n",
       "      <td>0.0</td>\n",
       "      <td>130.0</td>\n",
       "      <td>135.0</td>\n",
       "      <td>109.0</td>\n",
       "      <td>721.0</td>\n",
       "      <td>19.62</td>\n",
       "      <td>3.04</td>\n",
       "      <td>15.08</td>\n",
       "      <td>0.09</td>\n",
       "      <td>24.72</td>\n",
       "    </tr>\n",
       "    <tr>\n",
       "      <th>1</th>\n",
       "      <td>2016-09-25</td>\n",
       "      <td>AA</td>\n",
       "      <td>2623.0</td>\n",
       "      <td>DFW</td>\n",
       "      <td>TPA</td>\n",
       "      <td>1830.0</td>\n",
       "      <td>1915.0</td>\n",
       "      <td>45.0</td>\n",
       "      <td>20.0</td>\n",
       "      <td>1935.0</td>\n",
       "      <td>2243.0</td>\n",
       "      <td>3.0</td>\n",
       "      <td>2155.0</td>\n",
       "      <td>2246.0</td>\n",
       "      <td>51.0</td>\n",
       "      <td>0.0</td>\n",
       "      <td>0.0</td>\n",
       "      <td>145.0</td>\n",
       "      <td>151.0</td>\n",
       "      <td>128.0</td>\n",
       "      <td>929.0</td>\n",
       "      <td>0.00</td>\n",
       "      <td>0.00</td>\n",
       "      <td>6.00</td>\n",
       "      <td>0.00</td>\n",
       "      <td>45.00</td>\n",
       "    </tr>\n",
       "    <tr>\n",
       "      <th>2</th>\n",
       "      <td>2016-09-25</td>\n",
       "      <td>AA</td>\n",
       "      <td>2625.0</td>\n",
       "      <td>MCO</td>\n",
       "      <td>DFW</td>\n",
       "      <td>935.0</td>\n",
       "      <td>930.0</td>\n",
       "      <td>-5.0</td>\n",
       "      <td>12.0</td>\n",
       "      <td>942.0</td>\n",
       "      <td>1052.0</td>\n",
       "      <td>17.0</td>\n",
       "      <td>1124.0</td>\n",
       "      <td>1109.0</td>\n",
       "      <td>-15.0</td>\n",
       "      <td>0.0</td>\n",
       "      <td>0.0</td>\n",
       "      <td>169.0</td>\n",
       "      <td>159.0</td>\n",
       "      <td>130.0</td>\n",
       "      <td>985.0</td>\n",
       "      <td>19.62</td>\n",
       "      <td>3.04</td>\n",
       "      <td>15.08</td>\n",
       "      <td>0.09</td>\n",
       "      <td>24.72</td>\n",
       "    </tr>\n",
       "    <tr>\n",
       "      <th>3</th>\n",
       "      <td>2016-09-25</td>\n",
       "      <td>AA</td>\n",
       "      <td>2626.0</td>\n",
       "      <td>DFW</td>\n",
       "      <td>FLL</td>\n",
       "      <td>1429.0</td>\n",
       "      <td>1710.0</td>\n",
       "      <td>161.0</td>\n",
       "      <td>28.0</td>\n",
       "      <td>1738.0</td>\n",
       "      <td>2054.0</td>\n",
       "      <td>4.0</td>\n",
       "      <td>1814.0</td>\n",
       "      <td>2058.0</td>\n",
       "      <td>164.0</td>\n",
       "      <td>0.0</td>\n",
       "      <td>0.0</td>\n",
       "      <td>165.0</td>\n",
       "      <td>168.0</td>\n",
       "      <td>136.0</td>\n",
       "      <td>1119.0</td>\n",
       "      <td>15.00</td>\n",
       "      <td>0.00</td>\n",
       "      <td>3.00</td>\n",
       "      <td>0.00</td>\n",
       "      <td>146.00</td>\n",
       "    </tr>\n",
       "    <tr>\n",
       "      <th>4</th>\n",
       "      <td>2016-09-25</td>\n",
       "      <td>AA</td>\n",
       "      <td>2626.0</td>\n",
       "      <td>TUS</td>\n",
       "      <td>DFW</td>\n",
       "      <td>915.0</td>\n",
       "      <td>910.0</td>\n",
       "      <td>-5.0</td>\n",
       "      <td>10.0</td>\n",
       "      <td>920.0</td>\n",
       "      <td>1337.0</td>\n",
       "      <td>14.0</td>\n",
       "      <td>1328.0</td>\n",
       "      <td>1351.0</td>\n",
       "      <td>23.0</td>\n",
       "      <td>0.0</td>\n",
       "      <td>0.0</td>\n",
       "      <td>133.0</td>\n",
       "      <td>161.0</td>\n",
       "      <td>137.0</td>\n",
       "      <td>813.0</td>\n",
       "      <td>0.00</td>\n",
       "      <td>0.00</td>\n",
       "      <td>23.00</td>\n",
       "      <td>0.00</td>\n",
       "      <td>0.00</td>\n",
       "    </tr>\n",
       "  </tbody>\n",
       "</table>\n",
       "</div>"
      ],
      "text/plain": [
       "      FL_DATE OP_CARRIER  OP_CARRIER_FL_NUM ORIGIN DEST  CRS_DEP_TIME  DEP_TIME  DEP_DELAY  TAXI_OUT  WHEELS_OFF  WHEELS_ON  TAXI_IN  CRS_ARR_TIME  ARR_TIME  ARR_DELAY  CANCELLED  DIVERTED  CRS_ELAPSED_TIME  ACTUAL_ELAPSED_TIME  AIR_TIME  DISTANCE  CARRIER_DELAY  WEATHER_DELAY  NAS_DELAY  SECURITY_DELAY  LATE_AIRCRAFT_DELAY\n",
       "0  2016-09-25         AA             2622.0    EGE  DFW         800.0     749.0      -11.0      11.0       800.0     1049.0     15.0        1110.0    1104.0       -6.0        0.0       0.0             130.0                135.0     109.0     721.0          19.62           3.04      15.08            0.09                24.72\n",
       "1  2016-09-25         AA             2623.0    DFW  TPA        1830.0    1915.0       45.0      20.0      1935.0     2243.0      3.0        2155.0    2246.0       51.0        0.0       0.0             145.0                151.0     128.0     929.0           0.00           0.00       6.00            0.00                45.00\n",
       "2  2016-09-25         AA             2625.0    MCO  DFW         935.0     930.0       -5.0      12.0       942.0     1052.0     17.0        1124.0    1109.0      -15.0        0.0       0.0             169.0                159.0     130.0     985.0          19.62           3.04      15.08            0.09                24.72\n",
       "3  2016-09-25         AA             2626.0    DFW  FLL        1429.0    1710.0      161.0      28.0      1738.0     2054.0      4.0        1814.0    2058.0      164.0        0.0       0.0             165.0                168.0     136.0    1119.0          15.00           0.00       3.00            0.00               146.00\n",
       "4  2016-09-25         AA             2626.0    TUS  DFW         915.0     910.0       -5.0      10.0       920.0     1337.0     14.0        1328.0    1351.0       23.0        0.0       0.0             133.0                161.0     137.0     813.0           0.00           0.00      23.00            0.00                 0.00"
      ]
     },
     "execution_count": 10,
     "metadata": {},
     "output_type": "execute_result"
    }
   ],
   "source": [
    "df = spark.read.csv(CLEANED_DATA_PATH, header=True, schema=schema, inferSchema=False)\n",
    "df.to_pandas_on_spark().head()"
   ]
  },
  {
   "cell_type": "markdown",
   "metadata": {},
   "source": [
    "## Data Engineering"
   ]
  },
  {
   "cell_type": "code",
   "execution_count": 11,
   "metadata": {},
   "outputs": [],
   "source": [
    "df = df.repartition(24)"
   ]
  },
  {
   "cell_type": "code",
   "execution_count": 12,
   "metadata": {},
   "outputs": [],
   "source": [
    "from pyspark.sql import functions as F"
   ]
  },
  {
   "cell_type": "markdown",
   "metadata": {},
   "source": [
    "As we see the order of the data is completely mixed up, so our header is in the middle of the data. <br>\n",
    "We will have to find that header row, and then remove it from the data."
   ]
  },
  {
   "cell_type": "code",
   "execution_count": 13,
   "metadata": {},
   "outputs": [
    {
     "name": "stderr",
     "output_type": "stream",
     "text": [
      "2022-04-21 19:07:58,323 WARN window.WindowExec: No Partition Defined for Window operation! Moving all data to a single partition, this can cause serious performance degradation.\n",
      "2022-04-21 19:07:58,324 WARN window.WindowExec: No Partition Defined for Window operation! Moving all data to a single partition, this can cause serious performance degradation.\n",
      "2022-04-21 19:08:47,086 WARN window.WindowExec: No Partition Defined for Window operation! Moving all data to a single partition, this can cause serious performance degradation.\n",
      "                                                                                \r"
     ]
    },
    {
     "data": {
      "text/html": [
       "<div>\n",
       "<style scoped>\n",
       "    .dataframe tbody tr th:only-of-type {\n",
       "        vertical-align: middle;\n",
       "    }\n",
       "\n",
       "    .dataframe tbody tr th {\n",
       "        vertical-align: top;\n",
       "    }\n",
       "\n",
       "    .dataframe thead th {\n",
       "        text-align: right;\n",
       "    }\n",
       "</style>\n",
       "<table border=\"1\" class=\"dataframe\">\n",
       "  <thead>\n",
       "    <tr style=\"text-align: right;\">\n",
       "      <th></th>\n",
       "      <th>FL_DATE</th>\n",
       "      <th>OP_CARRIER</th>\n",
       "      <th>OP_CARRIER_FL_NUM</th>\n",
       "      <th>ORIGIN</th>\n",
       "      <th>DEST</th>\n",
       "      <th>CRS_DEP_TIME</th>\n",
       "      <th>DEP_TIME</th>\n",
       "      <th>DEP_DELAY</th>\n",
       "      <th>TAXI_OUT</th>\n",
       "      <th>WHEELS_OFF</th>\n",
       "      <th>WHEELS_ON</th>\n",
       "      <th>TAXI_IN</th>\n",
       "      <th>CRS_ARR_TIME</th>\n",
       "      <th>ARR_TIME</th>\n",
       "      <th>ARR_DELAY</th>\n",
       "      <th>CANCELLED</th>\n",
       "      <th>DIVERTED</th>\n",
       "      <th>CRS_ELAPSED_TIME</th>\n",
       "      <th>ACTUAL_ELAPSED_TIME</th>\n",
       "      <th>AIR_TIME</th>\n",
       "      <th>DISTANCE</th>\n",
       "      <th>CARRIER_DELAY</th>\n",
       "      <th>WEATHER_DELAY</th>\n",
       "      <th>NAS_DELAY</th>\n",
       "      <th>SECURITY_DELAY</th>\n",
       "      <th>LATE_AIRCRAFT_DELAY</th>\n",
       "    </tr>\n",
       "  </thead>\n",
       "  <tbody>\n",
       "    <tr>\n",
       "      <th>0</th>\n",
       "      <td>None</td>\n",
       "      <td>OP_CARRIER</td>\n",
       "      <td>NaN</td>\n",
       "      <td>ORIGIN</td>\n",
       "      <td>DEST</td>\n",
       "      <td>NaN</td>\n",
       "      <td>NaN</td>\n",
       "      <td>NaN</td>\n",
       "      <td>NaN</td>\n",
       "      <td>NaN</td>\n",
       "      <td>NaN</td>\n",
       "      <td>NaN</td>\n",
       "      <td>NaN</td>\n",
       "      <td>NaN</td>\n",
       "      <td>NaN</td>\n",
       "      <td>NaN</td>\n",
       "      <td>NaN</td>\n",
       "      <td>NaN</td>\n",
       "      <td>NaN</td>\n",
       "      <td>NaN</td>\n",
       "      <td>NaN</td>\n",
       "      <td>NaN</td>\n",
       "      <td>NaN</td>\n",
       "      <td>NaN</td>\n",
       "      <td>NaN</td>\n",
       "      <td>NaN</td>\n",
       "    </tr>\n",
       "  </tbody>\n",
       "</table>\n",
       "</div>"
      ],
      "text/plain": [
       "  FL_DATE  OP_CARRIER  OP_CARRIER_FL_NUM  ORIGIN  DEST  CRS_DEP_TIME  DEP_TIME  DEP_DELAY  TAXI_OUT  WHEELS_OFF  WHEELS_ON  TAXI_IN  CRS_ARR_TIME  ARR_TIME  ARR_DELAY  CANCELLED  DIVERTED  CRS_ELAPSED_TIME  ACTUAL_ELAPSED_TIME  AIR_TIME  DISTANCE  CARRIER_DELAY  WEATHER_DELAY  NAS_DELAY  SECURITY_DELAY  LATE_AIRCRAFT_DELAY\n",
       "0    None  OP_CARRIER                NaN  ORIGIN  DEST           NaN       NaN        NaN       NaN         NaN        NaN      NaN           NaN       NaN        NaN        NaN       NaN               NaN                  NaN       NaN       NaN            NaN            NaN        NaN             NaN                  NaN"
      ]
     },
     "execution_count": 13,
     "metadata": {},
     "output_type": "execute_result"
    }
   ],
   "source": [
    "header_row = df.filter(F.col(\"FL_DATE\").isNull())\n",
    "header_row.to_pandas_on_spark()"
   ]
  },
  {
   "cell_type": "markdown",
   "metadata": {},
   "source": [
    "When we infer the schema, the header row is not the same type as the rest of the rows, and therefore is converted to null. <br>\n",
    "And we can use this fact to filter out the header row."
   ]
  },
  {
   "cell_type": "code",
   "execution_count": 14,
   "metadata": {},
   "outputs": [],
   "source": [
    "df = df.filter((F.col(\"FL_DATE\").isNull() & F.col(\"OP_CARRIER\").isNotNull() & F.col(\"ORIGIN\").isNotNull() & F.col(\"DEST\").isNotNull()) == False)"
   ]
  },
  {
   "cell_type": "code",
   "execution_count": 15,
   "metadata": {},
   "outputs": [
    {
     "name": "stderr",
     "output_type": "stream",
     "text": [
      "[Stage 6:=====================================================>   (34 + 2) / 36]\r"
     ]
    },
    {
     "name": "stdout",
     "output_type": "stream",
     "text": [
      "0\n"
     ]
    },
    {
     "name": "stderr",
     "output_type": "stream",
     "text": [
      "                                                                                \r"
     ]
    }
   ],
   "source": [
    "header_row = df.filter(F.col(\"FL_DATE\").isNull())\n",
    "print(header_row.count())"
   ]
  },
  {
   "cell_type": "markdown",
   "metadata": {},
   "source": [
    "Next we will encode categorical columns, because we will be using them in our model."
   ]
  },
  {
   "cell_type": "code",
   "execution_count": 16,
   "metadata": {},
   "outputs": [
    {
     "name": "stderr",
     "output_type": "stream",
     "text": [
      "[Stage 30:======================================================> (35 + 1) / 36]\r"
     ]
    },
    {
     "name": "stdout",
     "output_type": "stream",
     "text": [
      "+----------+----------+-----------------+------+----+------------+--------+---------+--------+----------+---------+-------+------------+--------+---------+---------+--------+----------------+-------------------+--------+--------+-------------+-------------+---------+--------------+-------------------+------------------+--------------+------------+\n",
      "|   FL_DATE|OP_CARRIER|OP_CARRIER_FL_NUM|ORIGIN|DEST|CRS_DEP_TIME|DEP_TIME|DEP_DELAY|TAXI_OUT|WHEELS_OFF|WHEELS_ON|TAXI_IN|CRS_ARR_TIME|ARR_TIME|ARR_DELAY|CANCELLED|DIVERTED|CRS_ELAPSED_TIME|ACTUAL_ELAPSED_TIME|AIR_TIME|DISTANCE|CARRIER_DELAY|WEATHER_DELAY|NAS_DELAY|SECURITY_DELAY|LATE_AIRCRAFT_DELAY|OP_CARRIER_indexed|ORIGIN_indexed|DEST_indexed|\n",
      "+----------+----------+-----------------+------+----+------------+--------+---------+--------+----------+---------+-------+------------+--------+---------+---------+--------+----------------+-------------------+--------+--------+-------------+-------------+---------+--------------+-------------------+------------------+--------------+------------+\n",
      "|2015-10-22|        EV|           3924.0|   IAH| GRK|      1735.0|  1731.0|     -4.0|    12.0|    1743.0|   1821.0|    3.0|      1834.0|  1824.0|    -10.0|      0.0|     0.0|            59.0|               53.0|    38.0|   166.0|        19.62|         3.04|    15.08|          0.09|              24.72|               5.0|           8.0|       167.0|\n",
      "|2016-09-19|        EV|           2804.0|   TXK| DFW|      1027.0|  1025.0|     -2.0|     2.0|    1027.0|   1102.0|   16.0|      1133.0|  1118.0|    -15.0|      0.0|     0.0|            66.0|               53.0|    35.0|   181.0|        19.62|         3.04|    15.08|          0.09|              24.72|               5.0|         259.0|         2.0|\n",
      "|2016-11-14|        OO|           7363.0|   MSP| ABR|      1124.0|  1121.0|     -3.0|    11.0|    1132.0|   1213.0|    4.0|      1244.0|  1217.0|    -27.0|      0.0|     0.0|            80.0|               56.0|    41.0|   257.0|        19.62|         3.04|    15.08|          0.09|              24.72|               3.0|          10.0|       263.0|\n",
      "|2015-10-29|        VX|            731.0|   DAL| AUS|      1030.0| 1334.09|     9.53|   16.66|   1356.56|  1466.13|   7.51|      1120.0|  1470.7|     4.37|      1.0|     0.0|            50.0|              138.7|  114.54|   189.0|        19.62|         3.04|    15.08|          0.09|              24.72|              15.0|          27.0|        32.0|\n",
      "|2015-10-24|        NK|            163.0|   ATL| BOS|      1148.0|  1146.0|     -2.0|    13.0|    1159.0|   1354.0|   10.0|      1418.0|  1404.0|    -14.0|      0.0|     0.0|           150.0|              138.0|   115.0|   946.0|        19.62|         3.04|    15.08|          0.09|              24.72|               9.0|           0.0|        14.0|\n",
      "+----------+----------+-----------------+------+----+------------+--------+---------+--------+----------+---------+-------+------------+--------+---------+---------+--------+----------------+-------------------+--------+--------+-------------+-------------+---------+--------------+-------------------+------------------+--------------+------------+\n",
      "only showing top 5 rows\n",
      "\n"
     ]
    },
    {
     "name": "stderr",
     "output_type": "stream",
     "text": [
      "                                                                                \r"
     ]
    }
   ],
   "source": [
    "from pyspark.ml import Pipeline\n",
    "from pyspark.ml.feature import StringIndexer\n",
    "\n",
    "categorical_columns = [col[0] for col in df.dtypes if col[1] == \"string\"]\n",
    "indexers = [StringIndexer(inputCol=col, outputCol=col+\"_indexed\", handleInvalid=\"keep\").fit(df) for col in categorical_columns]\n",
    "\n",
    "pipeline = Pipeline(stages=indexers)\n",
    "df_indexed = pipeline.fit(df).transform(df)\n",
    "df_indexed.show(5)"
   ]
  },
  {
   "cell_type": "markdown",
   "metadata": {},
   "source": [
    "We are also dealing with time series data, and therefore we need to encode the dates."
   ]
  },
  {
   "cell_type": "code",
   "execution_count": 17,
   "metadata": {},
   "outputs": [
    {
     "name": "stderr",
     "output_type": "stream",
     "text": [
      "[Stage 35:>                                                         (0 + 1) / 1]\r"
     ]
    },
    {
     "name": "stdout",
     "output_type": "stream",
     "text": [
      "+-------------------+----------+-----------------+------+----+------------+--------+---------+--------+----------+---------+-------+------------+--------+---------+---------+--------+----------------+-------------------+--------+--------+-------------+-------------+---------+--------------+-------------------+------------------+--------------+------------+---------------+\n",
      "|            FL_DATE|OP_CARRIER|OP_CARRIER_FL_NUM|ORIGIN|DEST|CRS_DEP_TIME|DEP_TIME|DEP_DELAY|TAXI_OUT|WHEELS_OFF|WHEELS_ON|TAXI_IN|CRS_ARR_TIME|ARR_TIME|ARR_DELAY|CANCELLED|DIVERTED|CRS_ELAPSED_TIME|ACTUAL_ELAPSED_TIME|AIR_TIME|DISTANCE|CARRIER_DELAY|WEATHER_DELAY|NAS_DELAY|SECURITY_DELAY|LATE_AIRCRAFT_DELAY|OP_CARRIER_indexed|ORIGIN_indexed|DEST_indexed|FL_DATE_indexed|\n",
      "+-------------------+----------+-----------------+------+----+------------+--------+---------+--------+----------+---------+-------+------------+--------+---------+---------+--------+----------------+-------------------+--------+--------+-------------+-------------+---------+--------------+-------------------+------------------+--------------+------------+---------------+\n",
      "|2015-10-22 00:00:00|        EV|           3924.0|   IAH| GRK|      1735.0|  1731.0|     -4.0|    12.0|    1743.0|   1821.0|    3.0|      1834.0|  1824.0|    -10.0|      0.0|     0.0|            59.0|               53.0|    38.0|   166.0|        19.62|         3.04|    15.08|          0.09|              24.72|               5.0|           8.0|       167.0|     1445472000|\n",
      "|2016-09-19 00:00:00|        EV|           2804.0|   TXK| DFW|      1027.0|  1025.0|     -2.0|     2.0|    1027.0|   1102.0|   16.0|      1133.0|  1118.0|    -15.0|      0.0|     0.0|            66.0|               53.0|    35.0|   181.0|        19.62|         3.04|    15.08|          0.09|              24.72|               5.0|         259.0|         2.0|     1474243200|\n",
      "|2016-11-14 00:00:00|        OO|           7363.0|   MSP| ABR|      1124.0|  1121.0|     -3.0|    11.0|    1132.0|   1213.0|    4.0|      1244.0|  1217.0|    -27.0|      0.0|     0.0|            80.0|               56.0|    41.0|   257.0|        19.62|         3.04|    15.08|          0.09|              24.72|               3.0|          10.0|       263.0|     1479081600|\n",
      "|2015-10-29 00:00:00|        VX|            731.0|   DAL| AUS|      1030.0| 1334.09|     9.53|   16.66|   1356.56|  1466.13|   7.51|      1120.0|  1470.7|     4.37|      1.0|     0.0|            50.0|              138.7|  114.54|   189.0|        19.62|         3.04|    15.08|          0.09|              24.72|              15.0|          27.0|        32.0|     1446076800|\n",
      "|2015-10-24 00:00:00|        NK|            163.0|   ATL| BOS|      1148.0|  1146.0|     -2.0|    13.0|    1159.0|   1354.0|   10.0|      1418.0|  1404.0|    -14.0|      0.0|     0.0|           150.0|              138.0|   115.0|   946.0|        19.62|         3.04|    15.08|          0.09|              24.72|               9.0|           0.0|        14.0|     1445644800|\n",
      "+-------------------+----------+-----------------+------+----+------------+--------+---------+--------+----------+---------+-------+------------+--------+---------+---------+--------+----------------+-------------------+--------+--------+-------------+-------------+---------+--------------+-------------------+------------------+--------------+------------+---------------+\n",
      "only showing top 5 rows\n",
      "\n"
     ]
    },
    {
     "name": "stderr",
     "output_type": "stream",
     "text": [
      "                                                                                \r"
     ]
    }
   ],
   "source": [
    "df_indexed = df_indexed.withColumn(\"FL_DATE\", F.col(\"FL_DATE\").cast(\"timestamp\"))\\\n",
    "             .withColumn(\"FL_DATE_indexed\", F.unix_timestamp(F.col(\"FL_DATE\"), format=\"yyyy-MM-dd\"))\n",
    "df_indexed.show(5)"
   ]
  },
  {
   "cell_type": "markdown",
   "metadata": {},
   "source": [
    "To make sure that our model understand the columns containing data such as Planned Departure Time, and Planned Arrival Time, we will convert them to time."
   ]
  },
  {
   "cell_type": "code",
   "execution_count": 18,
   "metadata": {},
   "outputs": [],
   "source": [
    "def Convert_time_to_string(time, date):\n",
    "\n",
    "    time = str(int(time))\n",
    "    if len(time) == 1:\n",
    "        time = f\"00:0{time[0]}\"\n",
    "    elif len(time) == 2:\n",
    "        time = f\"00:{time}\"\n",
    "    elif len(time) == 3:\n",
    "        time = f\"0{time[0]}:{time[1:]}\"\n",
    "    elif len(time) == 4:\n",
    "        time = f\"{time[0:2]}:{time[2:]}\"\n",
    "    \n",
    "    if date != None:\n",
    "        return f\"{date} {time}\"\n",
    "\n",
    "    return time\n",
    "\n",
    "udf_Convert_time_to_string = F.udf(Convert_time_to_string, StringType())"
   ]
  },
  {
   "cell_type": "code",
   "execution_count": 19,
   "metadata": {},
   "outputs": [
    {
     "name": "stdout",
     "output_type": "stream",
     "text": [
      "2018-11-04 00:00 2018-11-04 00:04 2018-11-04 00:23 2018-11-04 08:08 2018-11-04 12:03\n"
     ]
    }
   ],
   "source": [
    "print(Convert_time_to_string(0.0, \"2018-11-04\"), # should be 2018-11-04 00:00\n",
    "      Convert_time_to_string(4.0, \"2018-11-04\"), # should be  2018-11-04 00:04, because you cant have leading zeros\n",
    "      Convert_time_to_string(23.0, \"2018-11-04\"), # should be  2018-11-04 00:23, because you cant have leading zeros\n",
    "      Convert_time_to_string(808.0, \"2018-11-04\"), # should be  2018-11-04 08:08, because you cant have leading zeros\n",
    "      Convert_time_to_string(1203.0, \"2018-11-04\")) # should be  2018-11-04 12:03"
   ]
  },
  {
   "cell_type": "code",
   "execution_count": 20,
   "metadata": {},
   "outputs": [
    {
     "name": "stderr",
     "output_type": "stream",
     "text": [
      "[Stage 36:======================================================> (35 + 1) / 36]\r"
     ]
    },
    {
     "name": "stdout",
     "output_type": "stream",
     "text": [
      "+-------+----------+-----------------+------+----+------------+--------+---------+--------+----------+---------+-------+------------+--------+---------+---------+--------+----------------+-------------------+--------+--------+-------------+-------------+---------+--------------+-------------------+------------------+--------------+------------+---------------+\n",
      "|FL_DATE|OP_CARRIER|OP_CARRIER_FL_NUM|ORIGIN|DEST|CRS_DEP_TIME|DEP_TIME|DEP_DELAY|TAXI_OUT|WHEELS_OFF|WHEELS_ON|TAXI_IN|CRS_ARR_TIME|ARR_TIME|ARR_DELAY|CANCELLED|DIVERTED|CRS_ELAPSED_TIME|ACTUAL_ELAPSED_TIME|AIR_TIME|DISTANCE|CARRIER_DELAY|WEATHER_DELAY|NAS_DELAY|SECURITY_DELAY|LATE_AIRCRAFT_DELAY|OP_CARRIER_indexed|ORIGIN_indexed|DEST_indexed|FL_DATE_indexed|\n",
      "+-------+----------+-----------------+------+----+------------+--------+---------+--------+----------+---------+-------+------------+--------+---------+---------+--------+----------------+-------------------+--------+--------+-------------+-------------+---------+--------------+-------------------+------------------+--------------+------------+---------------+\n",
      "|   null|        EV|           3924.0|   IAH| GRK|      1735.0|  1731.0|     -4.0|    12.0|    1743.0|   1821.0|    3.0|      1834.0|  1824.0|    -10.0|      0.0|     0.0|            59.0|               53.0|    38.0|   166.0|        19.62|         3.04|    15.08|          0.09|              24.72|               5.0|           8.0|       167.0|     1445472000|\n",
      "|   null|        EV|           2804.0|   TXK| DFW|      1027.0|  1025.0|     -2.0|     2.0|    1027.0|   1102.0|   16.0|      1133.0|  1118.0|    -15.0|      0.0|     0.0|            66.0|               53.0|    35.0|   181.0|        19.62|         3.04|    15.08|          0.09|              24.72|               5.0|         259.0|         2.0|     1474243200|\n",
      "|   null|        OO|           7363.0|   MSP| ABR|      1124.0|  1121.0|     -3.0|    11.0|    1132.0|   1213.0|    4.0|      1244.0|  1217.0|    -27.0|      0.0|     0.0|            80.0|               56.0|    41.0|   257.0|        19.62|         3.04|    15.08|          0.09|              24.72|               3.0|          10.0|       263.0|     1479081600|\n",
      "|   null|        VX|            731.0|   DAL| AUS|      1030.0| 1334.09|     9.53|   16.66|   1356.56|  1466.13|   7.51|      1120.0|  1470.7|     4.37|      1.0|     0.0|            50.0|              138.7|  114.54|   189.0|        19.62|         3.04|    15.08|          0.09|              24.72|              15.0|          27.0|        32.0|     1446076800|\n",
      "|   null|        NK|            163.0|   ATL| BOS|      1148.0|  1146.0|     -2.0|    13.0|    1159.0|   1354.0|   10.0|      1418.0|  1404.0|    -14.0|      0.0|     0.0|           150.0|              138.0|   115.0|   946.0|        19.62|         3.04|    15.08|          0.09|              24.72|               9.0|           0.0|        14.0|     1445644800|\n",
      "+-------+----------+-----------------+------+----+------------+--------+---------+--------+----------+---------+-------+------------+--------+---------+---------+--------+----------------+-------------------+--------+--------+-------------+-------------+---------+--------------+-------------------+------------------+--------------+------------+---------------+\n",
      "only showing top 5 rows\n",
      "\n"
     ]
    },
    {
     "name": "stderr",
     "output_type": "stream",
     "text": [
      "                                                                                \r"
     ]
    }
   ],
   "source": [
    "df_indexed.withColumn(\"FL_DATE\", F.split(F.col(\"FL_DATE\").cast(\"string\"), \" \").getItem(0) + \"hei\").show(5)"
   ]
  },
  {
   "cell_type": "code",
   "execution_count": 21,
   "metadata": {},
   "outputs": [
    {
     "name": "stderr",
     "output_type": "stream",
     "text": [
      "[Stage 41:>                                                         (0 + 1) / 1]\r"
     ]
    },
    {
     "name": "stdout",
     "output_type": "stream",
     "text": [
      "+-------------------+----------+-----------------+------+----+------------+--------+---------+--------+----------+---------+-------+------------+--------+---------+---------+--------+----------------+-------------------+--------+--------+-------------+-------------+---------+--------------+-------------------+------------------+--------------+------------+---------------+--------------------+--------------------+\n",
      "|FL_DATE            |OP_CARRIER|OP_CARRIER_FL_NUM|ORIGIN|DEST|CRS_DEP_TIME|DEP_TIME|DEP_DELAY|TAXI_OUT|WHEELS_OFF|WHEELS_ON|TAXI_IN|CRS_ARR_TIME|ARR_TIME|ARR_DELAY|CANCELLED|DIVERTED|CRS_ELAPSED_TIME|ACTUAL_ELAPSED_TIME|AIR_TIME|DISTANCE|CARRIER_DELAY|WEATHER_DELAY|NAS_DELAY|SECURITY_DELAY|LATE_AIRCRAFT_DELAY|OP_CARRIER_indexed|ORIGIN_indexed|DEST_indexed|FL_DATE_indexed|CRS_DEP_TIME_indexed|CRS_ARR_TIME_indexed|\n",
      "+-------------------+----------+-----------------+------+----+------------+--------+---------+--------+----------+---------+-------+------------+--------+---------+---------+--------+----------------+-------------------+--------+--------+-------------+-------------+---------+--------------+-------------------+------------------+--------------+------------+---------------+--------------------+--------------------+\n",
      "|2015-06-16 00:00:00|DL        |2105.0           |SFO   |MSP |1510.0      |1514.0  |4.0      |14.0    |1528.0    |2025.0   |8.0    |2044.0      |2033.0  |-11.0    |0.0      |0.0     |214.0           |199.0              |177.0   |1589.0  |19.62        |3.04         |15.08    |0.09          |24.72              |1.0               |5.0           |10.0        |1434412800     |1434467400          |1434487440          |\n",
      "|2018-12-13 00:00:00|YV        |5788.0           |SDF   |DFW |815.0       |814.0   |-1.0     |26.0    |840.0     |945.0    |16.0   |946.0       |1001.0  |15.0     |0.0      |0.0     |151.0           |167.0              |125.0   |733.0   |0.0          |0.0          |15.0     |0.0           |0.0                |16.0              |73.0          |2.0         |1544659200     |1544688900          |1544694360          |\n",
      "|2017-07-22 00:00:00|WN        |2798.0           |BWI   |BOS |1040.0      |1047.0  |7.0      |14.0    |1101.0    |1205.0   |8.0    |1210.0      |1213.0  |3.0      |0.0      |0.0     |90.0            |86.0               |64.0    |369.0   |19.62        |3.04         |15.08    |0.09          |24.72              |0.0               |19.0          |14.0        |1500681600     |1500720000          |1500725400          |\n",
      "|2018-12-15 00:00:00|AA        |1631.0           |CLT   |MSY |1914.0      |1907.0  |-7.0     |14.0    |1921.0    |2006.0   |7.0    |2011.0      |2013.0  |2.0      |0.0      |0.0     |117.0           |126.0              |105.0   |651.0   |19.62        |3.04         |15.08    |0.09          |24.72              |2.0               |9.0           |35.0        |1544832000     |1544901240          |1544904660          |\n",
      "|2017-07-26 00:00:00|OO        |4555.0           |SLC   |RDM |1130.0      |1120.0  |-10.0    |17.0    |1137.0    |1155.0   |3.0    |1221.0      |1158.0  |-23.0    |0.0      |0.0     |111.0           |98.0               |78.0    |525.0   |19.62        |3.04         |15.08    |0.09          |24.72              |3.0               |17.0          |150.0       |1501027200     |1501068600          |1501071660          |\n",
      "+-------------------+----------+-----------------+------+----+------------+--------+---------+--------+----------+---------+-------+------------+--------+---------+---------+--------+----------------+-------------------+--------+--------+-------------+-------------+---------+--------------+-------------------+------------------+--------------+------------+---------------+--------------------+--------------------+\n",
      "only showing top 5 rows\n",
      "\n"
     ]
    },
    {
     "name": "stderr",
     "output_type": "stream",
     "text": [
      "                                                                                \r"
     ]
    }
   ],
   "source": [
    "df_indexed = df_indexed.withColumn(\"CRS_DEP_TIME_indexed\", F.unix_timestamp(udf_Convert_time_to_string(F.col(\"CRS_DEP_TIME\"), F.split(F.col(\"FL_DATE\").cast(\"string\"), \" \").getItem(0)), format=\"yyyy-MM-dd HH:mm\")) \\\n",
    "    .withColumn(\"CRS_ARR_TIME_indexed\", F.unix_timestamp(udf_Convert_time_to_string(F.col(\"CRS_ARR_TIME\"), F.split(F.col(\"FL_DATE\").cast(\"string\"), \" \").getItem(0)), format=\"yyyy-MM-dd HH:mm\"))\n",
    "df_indexed.show(5, truncate=False)"
   ]
  },
  {
   "cell_type": "markdown",
   "metadata": {},
   "source": [
    "We will try to predict whether or not the flight is delayed, so we will create a binary column, based on either departure delay or arrival delay."
   ]
  },
  {
   "cell_type": "code",
   "execution_count": 22,
   "metadata": {},
   "outputs": [
    {
     "name": "stderr",
     "output_type": "stream",
     "text": [
      "[Stage 44:>                                                         (0 + 1) / 1]\r"
     ]
    },
    {
     "name": "stdout",
     "output_type": "stream",
     "text": [
      "+-------------------+----------+-----------------+------+----+------------+--------+---------+--------+----------+---------+-------+------------+--------+---------+---------+--------+----------------+-------------------+--------+--------+-------------+-------------+---------+--------------+-------------------+------------------+--------------+------------+---------------+--------------------+--------------------+-------+\n",
      "|FL_DATE            |OP_CARRIER|OP_CARRIER_FL_NUM|ORIGIN|DEST|CRS_DEP_TIME|DEP_TIME|DEP_DELAY|TAXI_OUT|WHEELS_OFF|WHEELS_ON|TAXI_IN|CRS_ARR_TIME|ARR_TIME|ARR_DELAY|CANCELLED|DIVERTED|CRS_ELAPSED_TIME|ACTUAL_ELAPSED_TIME|AIR_TIME|DISTANCE|CARRIER_DELAY|WEATHER_DELAY|NAS_DELAY|SECURITY_DELAY|LATE_AIRCRAFT_DELAY|OP_CARRIER_indexed|ORIGIN_indexed|DEST_indexed|FL_DATE_indexed|CRS_DEP_TIME_indexed|CRS_ARR_TIME_indexed|Delayed|\n",
      "+-------------------+----------+-----------------+------+----+------------+--------+---------+--------+----------+---------+-------+------------+--------+---------+---------+--------+----------------+-------------------+--------+--------+-------------+-------------+---------+--------------+-------------------+------------------+--------------+------------+---------------+--------------------+--------------------+-------+\n",
      "|2018-11-04 00:00:00|OO        |5398.0           |DSM   |ORD |1140.0      |1132.0  |-8.0     |16.0    |1148.0    |1247.0   |18.0   |1309.0      |1305.0  |-4.0     |0.0      |0.0     |89.0            |93.0               |59.0    |299.0   |19.62        |3.04         |15.08    |0.09          |24.72              |3.0               |80.0          |1.0         |1541289600     |1541331600          |1541336940          |0      |\n",
      "|2018-07-16 00:00:00|OO        |3581.0           |MSP   |ICT |1935.0      |1932.0  |-3.0     |35.0    |2007.0    |2124.0   |5.0    |2128.0      |2129.0  |1.0      |0.0      |0.0     |113.0           |117.0              |77.0    |545.0   |19.62        |3.04         |15.08    |0.09          |24.72              |3.0               |10.0          |90.0        |1531699200     |1531769700          |1531776480          |1      |\n",
      "|2018-11-03 00:00:00|AS        |904.0            |FAI   |ANC |800.0       |745.0   |-15.0    |8.0     |753.0     |835.0    |5.0    |901.0       |840.0   |-21.0    |0.0      |0.0     |61.0            |55.0               |42.0    |261.0   |19.62        |3.04         |15.08    |0.09          |24.72              |7.0               |154.0         |62.0        |1541203200     |1541232000          |1541235660          |0      |\n",
      "|2018-08-16 00:00:00|OO        |3253.0           |ORD   |RIC |820.0       |815.0   |-5.0     |15.0    |830.0     |1100.0   |8.0    |1117.0      |1108.0  |-9.0     |0.0      |0.0     |117.0           |113.0              |90.0    |642.0   |19.62        |3.04         |15.08    |0.09          |24.72              |3.0               |1.0           |60.0        |1534377600     |1534407600          |1534418220          |0      |\n",
      "|2018-11-08 00:00:00|WN        |930.0            |CHS   |BWI |1250.0      |1253.0  |3.0      |7.0     |1300.0    |1401.0   |3.0    |1420.0      |1404.0  |-16.0    |0.0      |0.0     |90.0            |71.0               |61.0    |472.0   |19.62        |3.04         |15.08    |0.09          |24.72              |0.0               |65.0          |19.0        |1541635200     |1541681400          |1541686800          |1      |\n",
      "+-------------------+----------+-----------------+------+----+------------+--------+---------+--------+----------+---------+-------+------------+--------+---------+---------+--------+----------------+-------------------+--------+--------+-------------+-------------+---------+--------------+-------------------+------------------+--------------+------------+---------------+--------------------+--------------------+-------+\n",
      "only showing top 5 rows\n",
      "\n"
     ]
    },
    {
     "name": "stderr",
     "output_type": "stream",
     "text": [
      "                                                                                \r"
     ]
    }
   ],
   "source": [
    "df_indexed = df_indexed.withColumn(\"Delayed\", F.when((F.col(\"DEP_DELAY\") > 0) | (F.col(\"ARR_DELAY\") > 0), 1).otherwise(0))\n",
    "df_indexed.show(5, truncate=False)"
   ]
  },
  {
   "cell_type": "markdown",
   "metadata": {},
   "source": [
    "We also have some data regarding a flight being canceled, so we will remove any rows that have a value of 1 in the Cancelled column. <br>\n",
    "given that it doesnt give us any information about the flight being delayed."
   ]
  },
  {
   "cell_type": "code",
   "execution_count": 23,
   "metadata": {},
   "outputs": [
    {
     "name": "stderr",
     "output_type": "stream",
     "text": [
      "[Stage 47:===================================================>    (22 + 2) / 24]\r"
     ]
    },
    {
     "name": "stdout",
     "output_type": "stream",
     "text": [
      "+---------+--------+\n",
      "|CANCELLED|   count|\n",
      "+---------+--------+\n",
      "|      0.0|23969781|\n",
      "|      1.0|  355022|\n",
      "+---------+--------+\n",
      "\n"
     ]
    },
    {
     "name": "stderr",
     "output_type": "stream",
     "text": [
      "                                                                                \r"
     ]
    }
   ],
   "source": [
    "df_indexed.groupBy(\"CANCELLED\").count().show()"
   ]
  },
  {
   "cell_type": "code",
   "execution_count": 24,
   "metadata": {},
   "outputs": [
    {
     "name": "stderr",
     "output_type": "stream",
     "text": [
      "[Stage 51:======================================================> (35 + 1) / 36]\r"
     ]
    },
    {
     "name": "stdout",
     "output_type": "stream",
     "text": [
      "+-------------------+----------+-----------------+------+----+------------+--------+---------+--------+----------+---------+-------+------------+--------+---------+---------+--------+----------------+-------------------+--------+--------+-------------+-------------+---------+--------------+-------------------+------------------+--------------+------------+---------------+--------------------+--------------------+-------+\n",
      "|FL_DATE            |OP_CARRIER|OP_CARRIER_FL_NUM|ORIGIN|DEST|CRS_DEP_TIME|DEP_TIME|DEP_DELAY|TAXI_OUT|WHEELS_OFF|WHEELS_ON|TAXI_IN|CRS_ARR_TIME|ARR_TIME|ARR_DELAY|CANCELLED|DIVERTED|CRS_ELAPSED_TIME|ACTUAL_ELAPSED_TIME|AIR_TIME|DISTANCE|CARRIER_DELAY|WEATHER_DELAY|NAS_DELAY|SECURITY_DELAY|LATE_AIRCRAFT_DELAY|OP_CARRIER_indexed|ORIGIN_indexed|DEST_indexed|FL_DATE_indexed|CRS_DEP_TIME_indexed|CRS_ARR_TIME_indexed|Delayed|\n",
      "+-------------------+----------+-----------------+------+----+------------+--------+---------+--------+----------+---------+-------+------------+--------+---------+---------+--------+----------------+-------------------+--------+--------+-------------+-------------+---------+--------------+-------------------+------------------+--------------+------------+---------------+--------------------+--------------------+-------+\n",
      "|2015-10-22 00:00:00|EV        |3924.0           |IAH   |GRK |1735.0      |1731.0  |-4.0     |12.0    |1743.0    |1821.0   |3.0    |1834.0      |1824.0  |-10.0    |0.0      |0.0     |59.0            |53.0               |38.0    |166.0   |19.62        |3.04         |15.08    |0.09          |24.72              |5.0               |8.0           |167.0       |1445472000     |1445535300          |1445538840          |0      |\n",
      "|2016-09-19 00:00:00|EV        |2804.0           |TXK   |DFW |1027.0      |1025.0  |-2.0     |2.0     |1027.0    |1102.0   |16.0   |1133.0      |1118.0  |-15.0    |0.0      |0.0     |66.0            |53.0               |35.0    |181.0   |19.62        |3.04         |15.08    |0.09          |24.72              |5.0               |259.0         |2.0         |1474243200     |1474280820          |1474284780          |0      |\n",
      "|2016-11-14 00:00:00|OO        |7363.0           |MSP   |ABR |1124.0      |1121.0  |-3.0     |11.0    |1132.0    |1213.0   |4.0    |1244.0      |1217.0  |-27.0    |0.0      |0.0     |80.0            |56.0               |41.0    |257.0   |19.62        |3.04         |15.08    |0.09          |24.72              |3.0               |10.0          |263.0       |1479081600     |1479122640          |1479127440          |0      |\n",
      "|2015-10-24 00:00:00|NK        |163.0            |ATL   |BOS |1148.0      |1146.0  |-2.0     |13.0    |1159.0    |1354.0   |10.0   |1418.0      |1404.0  |-14.0    |0.0      |0.0     |150.0           |138.0              |115.0   |946.0   |19.62        |3.04         |15.08    |0.09          |24.72              |9.0               |0.0           |14.0        |1445644800     |1445687280          |1445696280          |0      |\n",
      "|2016-11-10 00:00:00|DL        |1560.0           |TLH   |ATL |700.0       |656.0   |-4.0     |13.0    |709.0     |754.0    |7.0    |806.0       |801.0   |-5.0     |0.0      |0.0     |66.0            |65.0               |45.0    |223.0   |19.62        |3.04         |15.08    |0.09          |24.72              |1.0               |141.0         |0.0         |1478736000     |1478761200          |1478765160          |0      |\n",
      "+-------------------+----------+-----------------+------+----+------------+--------+---------+--------+----------+---------+-------+------------+--------+---------+---------+--------+----------------+-------------------+--------+--------+-------------+-------------+---------+--------------+-------------------+------------------+--------------+------------+---------------+--------------------+--------------------+-------+\n",
      "only showing top 5 rows\n",
      "\n"
     ]
    },
    {
     "name": "stderr",
     "output_type": "stream",
     "text": [
      "                                                                                \r"
     ]
    }
   ],
   "source": [
    "df_indexed = df_indexed.where(F.col(\"CANCELLED\") == 0)\n",
    "df_indexed.show(5, truncate=False)"
   ]
  },
  {
   "cell_type": "markdown",
   "metadata": {},
   "source": [
    "Lastly we will remove columns containing data that is not available prior to the day of the flight. <br>\n",
    "\n",
    "These columns are:\n",
    "\n",
    "    - DEP_TIME - Actual Departure Time\n",
    "    - DEP_DELAY - Total Delay on Departure in minutes\n",
    "    - TAXI_OUT - Time between departure The time duration elapsed between departure from the origin airport gate and wheels off\n",
    "    - WHEELS_OFF - The time point that the aircraft's wheels leave the ground.\n",
    "    - WHEELS_ON - The time point that the aircraft'ss wheels touch on the ground.\n",
    "    - TAXI_IN - The time duration elapsed between wheels-on and gate arrival at the destination airport.\n",
    "    - ARR_TIME = Actual Arrival Time = ARRIVAL_TIME - SCHEDULED_ARRIVAL\n",
    "    - ARR_DELAY = Total Delay on Arrival in minutes\n",
    "    - DIVERTED = Aircraft landed on different airport that the one scheduled\n",
    "    - AIR_TIME = The time duration between wheels_off and wheels_on time\n",
    "    - DISTANCE = Distance between two airports\n",
    "    - CARRIER_DELAY = Delay caused by the airline in minutes\n",
    "    - NAS_DELAY = Delay caused by air system\n",
    "    - SECURITY_DELAY = caused by security reasons\n",
    "    - LATE_AIRCRAFT_DELAY = Delay caused by security"
   ]
  },
  {
   "cell_type": "code",
   "execution_count": 25,
   "metadata": {},
   "outputs": [],
   "source": [
    "cols_to_remove = [\"DEP_TIME\", \"DEP_DELAY\", \"TAXI_OUT\", \"WHEELS_OFF\", \"WHEELS_ON\", \"TAXI_IN\", \"ARR_TIME\", \"ARR_DELAY\", \"DIVERTED\", \"AIR_TIME\", \"DISTANCE\", \"CARRIER_DELAY\", \"NAS_DELAY\", \"SECURITY_DELAY\", \"LATE_AIRCRAFT_DELAY\"]\n",
    "df_indexed = df_indexed.drop(*cols_to_remove)"
   ]
  },
  {
   "cell_type": "code",
   "execution_count": 26,
   "metadata": {},
   "outputs": [
    {
     "name": "stderr",
     "output_type": "stream",
     "text": [
      "2022-04-21 19:26:10,290 WARN window.WindowExec: No Partition Defined for Window operation! Moving all data to a single partition, this can cause serious performance degradation.\n",
      "2022-04-21 19:26:10,292 WARN window.WindowExec: No Partition Defined for Window operation! Moving all data to a single partition, this can cause serious performance degradation.\n",
      "2022-04-21 19:27:43,273 WARN window.WindowExec: No Partition Defined for Window operation! Moving all data to a single partition, this can cause serious performance degradation.\n",
      "                                                                                \r"
     ]
    },
    {
     "data": {
      "text/html": [
       "<div>\n",
       "<style scoped>\n",
       "    .dataframe tbody tr th:only-of-type {\n",
       "        vertical-align: middle;\n",
       "    }\n",
       "\n",
       "    .dataframe tbody tr th {\n",
       "        vertical-align: top;\n",
       "    }\n",
       "\n",
       "    .dataframe thead th {\n",
       "        text-align: right;\n",
       "    }\n",
       "</style>\n",
       "<table border=\"1\" class=\"dataframe\">\n",
       "  <thead>\n",
       "    <tr style=\"text-align: right;\">\n",
       "      <th></th>\n",
       "      <th>FL_DATE</th>\n",
       "      <th>OP_CARRIER</th>\n",
       "      <th>OP_CARRIER_FL_NUM</th>\n",
       "      <th>ORIGIN</th>\n",
       "      <th>DEST</th>\n",
       "      <th>CRS_DEP_TIME</th>\n",
       "      <th>CRS_ARR_TIME</th>\n",
       "      <th>CANCELLED</th>\n",
       "      <th>CRS_ELAPSED_TIME</th>\n",
       "      <th>ACTUAL_ELAPSED_TIME</th>\n",
       "      <th>WEATHER_DELAY</th>\n",
       "      <th>OP_CARRIER_indexed</th>\n",
       "      <th>ORIGIN_indexed</th>\n",
       "      <th>DEST_indexed</th>\n",
       "      <th>FL_DATE_indexed</th>\n",
       "      <th>CRS_DEP_TIME_indexed</th>\n",
       "      <th>CRS_ARR_TIME_indexed</th>\n",
       "      <th>Delayed</th>\n",
       "    </tr>\n",
       "  </thead>\n",
       "  <tbody>\n",
       "    <tr>\n",
       "      <th>0</th>\n",
       "      <td>2016-09-21</td>\n",
       "      <td>DL</td>\n",
       "      <td>1998.0</td>\n",
       "      <td>MSP</td>\n",
       "      <td>GRR</td>\n",
       "      <td>1526.0</td>\n",
       "      <td>1745.0</td>\n",
       "      <td>0.0</td>\n",
       "      <td>79.0</td>\n",
       "      <td>94.0</td>\n",
       "      <td>3.04</td>\n",
       "      <td>1.0</td>\n",
       "      <td>10.0</td>\n",
       "      <td>77.0</td>\n",
       "      <td>1474416000</td>\n",
       "      <td>1474471560</td>\n",
       "      <td>1474479900</td>\n",
       "      <td>1</td>\n",
       "    </tr>\n",
       "    <tr>\n",
       "      <th>1</th>\n",
       "      <td>2018-11-10</td>\n",
       "      <td>YV</td>\n",
       "      <td>5819.0</td>\n",
       "      <td>ABQ</td>\n",
       "      <td>PHX</td>\n",
       "      <td>615.0</td>\n",
       "      <td>744.0</td>\n",
       "      <td>0.0</td>\n",
       "      <td>89.0</td>\n",
       "      <td>82.0</td>\n",
       "      <td>3.04</td>\n",
       "      <td>16.0</td>\n",
       "      <td>56.0</td>\n",
       "      <td>6.0</td>\n",
       "      <td>1541808000</td>\n",
       "      <td>1541830500</td>\n",
       "      <td>1541835840</td>\n",
       "      <td>0</td>\n",
       "    </tr>\n",
       "    <tr>\n",
       "      <th>2</th>\n",
       "      <td>2018-08-19</td>\n",
       "      <td>OH</td>\n",
       "      <td>5377.0</td>\n",
       "      <td>ORD</td>\n",
       "      <td>BDL</td>\n",
       "      <td>715.0</td>\n",
       "      <td>1019.0</td>\n",
       "      <td>0.0</td>\n",
       "      <td>124.0</td>\n",
       "      <td>123.0</td>\n",
       "      <td>3.04</td>\n",
       "      <td>13.0</td>\n",
       "      <td>1.0</td>\n",
       "      <td>54.0</td>\n",
       "      <td>1534636800</td>\n",
       "      <td>1534662900</td>\n",
       "      <td>1534673940</td>\n",
       "      <td>0</td>\n",
       "    </tr>\n",
       "    <tr>\n",
       "      <th>3</th>\n",
       "      <td>2018-08-13</td>\n",
       "      <td>OO</td>\n",
       "      <td>2983.0</td>\n",
       "      <td>GJT</td>\n",
       "      <td>PHX</td>\n",
       "      <td>1510.0</td>\n",
       "      <td>1556.0</td>\n",
       "      <td>0.0</td>\n",
       "      <td>106.0</td>\n",
       "      <td>106.0</td>\n",
       "      <td>0.00</td>\n",
       "      <td>3.0</td>\n",
       "      <td>150.0</td>\n",
       "      <td>6.0</td>\n",
       "      <td>1534118400</td>\n",
       "      <td>1534173000</td>\n",
       "      <td>1534175760</td>\n",
       "      <td>1</td>\n",
       "    </tr>\n",
       "    <tr>\n",
       "      <th>4</th>\n",
       "      <td>2016-09-22</td>\n",
       "      <td>AA</td>\n",
       "      <td>266.0</td>\n",
       "      <td>LIH</td>\n",
       "      <td>LAX</td>\n",
       "      <td>1425.0</td>\n",
       "      <td>2306.0</td>\n",
       "      <td>0.0</td>\n",
       "      <td>341.0</td>\n",
       "      <td>333.0</td>\n",
       "      <td>0.00</td>\n",
       "      <td>2.0</td>\n",
       "      <td>76.0</td>\n",
       "      <td>4.0</td>\n",
       "      <td>1474502400</td>\n",
       "      <td>1474554300</td>\n",
       "      <td>1474585560</td>\n",
       "      <td>1</td>\n",
       "    </tr>\n",
       "  </tbody>\n",
       "</table>\n",
       "</div>"
      ],
      "text/plain": [
       "     FL_DATE OP_CARRIER  OP_CARRIER_FL_NUM ORIGIN DEST  CRS_DEP_TIME  CRS_ARR_TIME  CANCELLED  CRS_ELAPSED_TIME  ACTUAL_ELAPSED_TIME  WEATHER_DELAY  OP_CARRIER_indexed  ORIGIN_indexed  DEST_indexed  FL_DATE_indexed  CRS_DEP_TIME_indexed  CRS_ARR_TIME_indexed  Delayed\n",
       "0 2016-09-21         DL             1998.0    MSP  GRR        1526.0        1745.0        0.0              79.0                 94.0           3.04                 1.0            10.0          77.0       1474416000            1474471560            1474479900        1\n",
       "1 2018-11-10         YV             5819.0    ABQ  PHX         615.0         744.0        0.0              89.0                 82.0           3.04                16.0            56.0           6.0       1541808000            1541830500            1541835840        0\n",
       "2 2018-08-19         OH             5377.0    ORD  BDL         715.0        1019.0        0.0             124.0                123.0           3.04                13.0             1.0          54.0       1534636800            1534662900            1534673940        0\n",
       "3 2018-08-13         OO             2983.0    GJT  PHX        1510.0        1556.0        0.0             106.0                106.0           0.00                 3.0           150.0           6.0       1534118400            1534173000            1534175760        1\n",
       "4 2016-09-22         AA              266.0    LIH  LAX        1425.0        2306.0        0.0             341.0                333.0           0.00                 2.0            76.0           4.0       1474502400            1474554300            1474585560        1"
      ]
     },
     "execution_count": 26,
     "metadata": {},
     "output_type": "execute_result"
    }
   ],
   "source": [
    "df_indexed.to_pandas_on_spark().head()"
   ]
  },
  {
   "cell_type": "markdown",
   "metadata": {},
   "source": [
    "## Data Exploration and Analysis"
   ]
  },
  {
   "cell_type": "markdown",
   "metadata": {},
   "source": [
    "So far we have cleaned the data by removing and filling null values.\n",
    "Now we will try to find the correlation between the our target, DEP_DELAY, and the other columns."
   ]
  },
  {
   "cell_type": "code",
   "execution_count": 27,
   "metadata": {},
   "outputs": [],
   "source": [
    "from pyspark.ml.stat import Correlation\n",
    "from pyspark.ml.feature import VectorAssembler"
   ]
  },
  {
   "cell_type": "code",
   "execution_count": 28,
   "metadata": {},
   "outputs": [],
   "source": [
    "def GetCorrelationMatrix(df):\n",
    "    inputcols = [col[0] for col in df_indexed.dtypes if col[1] == \"double\" or col[1] == \"int\" or col[1] == \"bigint\" or col[1] == \"long\"]\n",
    "    vector_col = \"features\"\n",
    "\n",
    "    assembler = VectorAssembler(inputCols=inputcols, outputCol=vector_col, handleInvalid=\"skip\")\n",
    "    df_vector = assembler.transform(df).select(vector_col)\n",
    "    matrix = Correlation.corr(df_vector, \"features\")\n",
    "\n",
    "    matrix_df = spark.createDataFrame(matrix.collect()[0][\"pearson({})\".format(vector_col)].toArray().tolist(), inputcols).to_pandas_on_spark()\n",
    "    matrix_df[\"feature\"] = inputcols\n",
    "\n",
    "    return matrix_df\n",
    "    "
   ]
  },
  {
   "cell_type": "code",
   "execution_count": 29,
   "metadata": {},
   "outputs": [
    {
     "name": "stderr",
     "output_type": "stream",
     "text": [
      "2022-04-21 19:33:44,067 WARN correlation.PearsonCorrelation: Pearson correlation matrix contains NaN values.\n",
      "                                                                                \r"
     ]
    }
   ],
   "source": [
    "corr_matrix = GetCorrelationMatrix(df_indexed)"
   ]
  },
  {
   "cell_type": "code",
   "execution_count": 30,
   "metadata": {},
   "outputs": [
    {
     "data": {
      "text/html": [
       "<div>\n",
       "<style scoped>\n",
       "    .dataframe tbody tr th:only-of-type {\n",
       "        vertical-align: middle;\n",
       "    }\n",
       "\n",
       "    .dataframe tbody tr th {\n",
       "        vertical-align: top;\n",
       "    }\n",
       "\n",
       "    .dataframe thead th {\n",
       "        text-align: right;\n",
       "    }\n",
       "</style>\n",
       "<table border=\"1\" class=\"dataframe\">\n",
       "  <thead>\n",
       "    <tr style=\"text-align: right;\">\n",
       "      <th></th>\n",
       "      <th>OP_CARRIER_FL_NUM</th>\n",
       "      <th>CRS_DEP_TIME</th>\n",
       "      <th>CRS_ARR_TIME</th>\n",
       "      <th>CANCELLED</th>\n",
       "      <th>CRS_ELAPSED_TIME</th>\n",
       "      <th>ACTUAL_ELAPSED_TIME</th>\n",
       "      <th>WEATHER_DELAY</th>\n",
       "      <th>OP_CARRIER_indexed</th>\n",
       "      <th>ORIGIN_indexed</th>\n",
       "      <th>DEST_indexed</th>\n",
       "      <th>FL_DATE_indexed</th>\n",
       "      <th>CRS_DEP_TIME_indexed</th>\n",
       "      <th>CRS_ARR_TIME_indexed</th>\n",
       "      <th>Delayed</th>\n",
       "    </tr>\n",
       "    <tr>\n",
       "      <th>feature</th>\n",
       "      <th></th>\n",
       "      <th></th>\n",
       "      <th></th>\n",
       "      <th></th>\n",
       "      <th></th>\n",
       "      <th></th>\n",
       "      <th></th>\n",
       "      <th></th>\n",
       "      <th></th>\n",
       "      <th></th>\n",
       "      <th></th>\n",
       "      <th></th>\n",
       "      <th></th>\n",
       "      <th></th>\n",
       "    </tr>\n",
       "  </thead>\n",
       "  <tbody>\n",
       "    <tr>\n",
       "      <th>OP_CARRIER_FL_NUM</th>\n",
       "      <td>1.000000</td>\n",
       "      <td>0.003467</td>\n",
       "      <td>0.001306</td>\n",
       "      <td>NaN</td>\n",
       "      <td>-0.302706</td>\n",
       "      <td>-0.296747</td>\n",
       "      <td>0.005099</td>\n",
       "      <td>0.079983</td>\n",
       "      <td>0.220909</td>\n",
       "      <td>0.225674</td>\n",
       "      <td>0.093118</td>\n",
       "      <td>0.093120</td>\n",
       "      <td>0.093119</td>\n",
       "      <td>-0.021921</td>\n",
       "    </tr>\n",
       "    <tr>\n",
       "      <th>CRS_DEP_TIME</th>\n",
       "      <td>0.003467</td>\n",
       "      <td>1.000000</td>\n",
       "      <td>0.682710</td>\n",
       "      <td>NaN</td>\n",
       "      <td>-0.015373</td>\n",
       "      <td>-0.017952</td>\n",
       "      <td>-0.000974</td>\n",
       "      <td>0.001410</td>\n",
       "      <td>-0.121237</td>\n",
       "      <td>0.129927</td>\n",
       "      <td>-0.000929</td>\n",
       "      <td>-0.000457</td>\n",
       "      <td>-0.000590</td>\n",
       "      <td>0.143310</td>\n",
       "    </tr>\n",
       "    <tr>\n",
       "      <th>CRS_ARR_TIME</th>\n",
       "      <td>0.001306</td>\n",
       "      <td>0.682710</td>\n",
       "      <td>1.000000</td>\n",
       "      <td>NaN</td>\n",
       "      <td>0.026066</td>\n",
       "      <td>0.025037</td>\n",
       "      <td>0.000123</td>\n",
       "      <td>-0.003089</td>\n",
       "      <td>-0.113905</td>\n",
       "      <td>0.082688</td>\n",
       "      <td>-0.006736</td>\n",
       "      <td>-0.006413</td>\n",
       "      <td>-0.006239</td>\n",
       "      <td>0.128429</td>\n",
       "    </tr>\n",
       "    <tr>\n",
       "      <th>CANCELLED</th>\n",
       "      <td>NaN</td>\n",
       "      <td>NaN</td>\n",
       "      <td>NaN</td>\n",
       "      <td>1.0</td>\n",
       "      <td>NaN</td>\n",
       "      <td>NaN</td>\n",
       "      <td>NaN</td>\n",
       "      <td>NaN</td>\n",
       "      <td>NaN</td>\n",
       "      <td>NaN</td>\n",
       "      <td>NaN</td>\n",
       "      <td>NaN</td>\n",
       "      <td>NaN</td>\n",
       "      <td>NaN</td>\n",
       "    </tr>\n",
       "    <tr>\n",
       "      <th>CRS_ELAPSED_TIME</th>\n",
       "      <td>-0.302706</td>\n",
       "      <td>-0.015373</td>\n",
       "      <td>0.026066</td>\n",
       "      <td>NaN</td>\n",
       "      <td>1.000000</td>\n",
       "      <td>0.983058</td>\n",
       "      <td>-0.002673</td>\n",
       "      <td>0.011934</td>\n",
       "      <td>-0.205367</td>\n",
       "      <td>-0.232022</td>\n",
       "      <td>-0.002568</td>\n",
       "      <td>-0.002575</td>\n",
       "      <td>-0.002555</td>\n",
       "      <td>0.059892</td>\n",
       "    </tr>\n",
       "    <tr>\n",
       "      <th>ACTUAL_ELAPSED_TIME</th>\n",
       "      <td>-0.296747</td>\n",
       "      <td>-0.017952</td>\n",
       "      <td>0.025037</td>\n",
       "      <td>NaN</td>\n",
       "      <td>0.983058</td>\n",
       "      <td>1.000000</td>\n",
       "      <td>-0.000726</td>\n",
       "      <td>0.024770</td>\n",
       "      <td>-0.199206</td>\n",
       "      <td>-0.226301</td>\n",
       "      <td>-0.002379</td>\n",
       "      <td>-0.002387</td>\n",
       "      <td>-0.002367</td>\n",
       "      <td>0.112584</td>\n",
       "    </tr>\n",
       "    <tr>\n",
       "      <th>WEATHER_DELAY</th>\n",
       "      <td>0.005099</td>\n",
       "      <td>-0.000974</td>\n",
       "      <td>0.000123</td>\n",
       "      <td>NaN</td>\n",
       "      <td>-0.002673</td>\n",
       "      <td>-0.000726</td>\n",
       "      <td>1.000000</td>\n",
       "      <td>0.000602</td>\n",
       "      <td>0.002425</td>\n",
       "      <td>0.007813</td>\n",
       "      <td>0.004097</td>\n",
       "      <td>0.004096</td>\n",
       "      <td>0.004097</td>\n",
       "      <td>0.000083</td>\n",
       "    </tr>\n",
       "    <tr>\n",
       "      <th>OP_CARRIER_indexed</th>\n",
       "      <td>0.079983</td>\n",
       "      <td>0.001410</td>\n",
       "      <td>-0.003089</td>\n",
       "      <td>NaN</td>\n",
       "      <td>0.011934</td>\n",
       "      <td>0.024770</td>\n",
       "      <td>0.000602</td>\n",
       "      <td>1.000000</td>\n",
       "      <td>0.119881</td>\n",
       "      <td>0.120088</td>\n",
       "      <td>0.100058</td>\n",
       "      <td>0.100059</td>\n",
       "      <td>0.100057</td>\n",
       "      <td>-0.022266</td>\n",
       "    </tr>\n",
       "    <tr>\n",
       "      <th>ORIGIN_indexed</th>\n",
       "      <td>0.220909</td>\n",
       "      <td>-0.121237</td>\n",
       "      <td>-0.113905</td>\n",
       "      <td>NaN</td>\n",
       "      <td>-0.205367</td>\n",
       "      <td>-0.199206</td>\n",
       "      <td>0.002425</td>\n",
       "      <td>0.119881</td>\n",
       "      <td>1.000000</td>\n",
       "      <td>-0.164176</td>\n",
       "      <td>0.023812</td>\n",
       "      <td>0.023754</td>\n",
       "      <td>0.023755</td>\n",
       "      <td>-0.061795</td>\n",
       "    </tr>\n",
       "    <tr>\n",
       "      <th>DEST_indexed</th>\n",
       "      <td>0.225674</td>\n",
       "      <td>0.129927</td>\n",
       "      <td>0.082688</td>\n",
       "      <td>NaN</td>\n",
       "      <td>-0.232022</td>\n",
       "      <td>-0.226301</td>\n",
       "      <td>0.007813</td>\n",
       "      <td>0.120088</td>\n",
       "      <td>-0.164176</td>\n",
       "      <td>1.000000</td>\n",
       "      <td>0.023668</td>\n",
       "      <td>0.023729</td>\n",
       "      <td>0.023709</td>\n",
       "      <td>-0.023394</td>\n",
       "    </tr>\n",
       "    <tr>\n",
       "      <th>FL_DATE_indexed</th>\n",
       "      <td>0.093118</td>\n",
       "      <td>-0.000929</td>\n",
       "      <td>-0.006736</td>\n",
       "      <td>NaN</td>\n",
       "      <td>-0.002568</td>\n",
       "      <td>-0.002379</td>\n",
       "      <td>0.004097</td>\n",
       "      <td>0.100058</td>\n",
       "      <td>0.023812</td>\n",
       "      <td>0.023668</td>\n",
       "      <td>1.000000</td>\n",
       "      <td>1.000000</td>\n",
       "      <td>1.000000</td>\n",
       "      <td>-0.017283</td>\n",
       "    </tr>\n",
       "    <tr>\n",
       "      <th>CRS_DEP_TIME_indexed</th>\n",
       "      <td>0.093120</td>\n",
       "      <td>-0.000457</td>\n",
       "      <td>-0.006413</td>\n",
       "      <td>NaN</td>\n",
       "      <td>-0.002575</td>\n",
       "      <td>-0.002387</td>\n",
       "      <td>0.004096</td>\n",
       "      <td>0.100059</td>\n",
       "      <td>0.023754</td>\n",
       "      <td>0.023729</td>\n",
       "      <td>1.000000</td>\n",
       "      <td>1.000000</td>\n",
       "      <td>1.000000</td>\n",
       "      <td>-0.017215</td>\n",
       "    </tr>\n",
       "    <tr>\n",
       "      <th>CRS_ARR_TIME_indexed</th>\n",
       "      <td>0.093119</td>\n",
       "      <td>-0.000590</td>\n",
       "      <td>-0.006239</td>\n",
       "      <td>NaN</td>\n",
       "      <td>-0.002555</td>\n",
       "      <td>-0.002367</td>\n",
       "      <td>0.004097</td>\n",
       "      <td>0.100057</td>\n",
       "      <td>0.023755</td>\n",
       "      <td>0.023709</td>\n",
       "      <td>1.000000</td>\n",
       "      <td>1.000000</td>\n",
       "      <td>1.000000</td>\n",
       "      <td>-0.017219</td>\n",
       "    </tr>\n",
       "    <tr>\n",
       "      <th>Delayed</th>\n",
       "      <td>-0.021921</td>\n",
       "      <td>0.143310</td>\n",
       "      <td>0.128429</td>\n",
       "      <td>NaN</td>\n",
       "      <td>0.059892</td>\n",
       "      <td>0.112584</td>\n",
       "      <td>0.000083</td>\n",
       "      <td>-0.022266</td>\n",
       "      <td>-0.061795</td>\n",
       "      <td>-0.023394</td>\n",
       "      <td>-0.017283</td>\n",
       "      <td>-0.017215</td>\n",
       "      <td>-0.017219</td>\n",
       "      <td>1.000000</td>\n",
       "    </tr>\n",
       "  </tbody>\n",
       "</table>\n",
       "</div>"
      ],
      "text/plain": [
       "                      OP_CARRIER_FL_NUM  CRS_DEP_TIME  CRS_ARR_TIME  CANCELLED  CRS_ELAPSED_TIME  ACTUAL_ELAPSED_TIME  WEATHER_DELAY  OP_CARRIER_indexed  ORIGIN_indexed  DEST_indexed  FL_DATE_indexed  CRS_DEP_TIME_indexed  CRS_ARR_TIME_indexed   Delayed\n",
       "feature                                                                                                                                                                                                                                                      \n",
       "OP_CARRIER_FL_NUM              1.000000      0.003467      0.001306        NaN         -0.302706            -0.296747       0.005099            0.079983        0.220909      0.225674         0.093118              0.093120              0.093119 -0.021921\n",
       "CRS_DEP_TIME                   0.003467      1.000000      0.682710        NaN         -0.015373            -0.017952      -0.000974            0.001410       -0.121237      0.129927        -0.000929             -0.000457             -0.000590  0.143310\n",
       "CRS_ARR_TIME                   0.001306      0.682710      1.000000        NaN          0.026066             0.025037       0.000123           -0.003089       -0.113905      0.082688        -0.006736             -0.006413             -0.006239  0.128429\n",
       "CANCELLED                           NaN           NaN           NaN        1.0               NaN                  NaN            NaN                 NaN             NaN           NaN              NaN                   NaN                   NaN       NaN\n",
       "CRS_ELAPSED_TIME              -0.302706     -0.015373      0.026066        NaN          1.000000             0.983058      -0.002673            0.011934       -0.205367     -0.232022        -0.002568             -0.002575             -0.002555  0.059892\n",
       "ACTUAL_ELAPSED_TIME           -0.296747     -0.017952      0.025037        NaN          0.983058             1.000000      -0.000726            0.024770       -0.199206     -0.226301        -0.002379             -0.002387             -0.002367  0.112584\n",
       "WEATHER_DELAY                  0.005099     -0.000974      0.000123        NaN         -0.002673            -0.000726       1.000000            0.000602        0.002425      0.007813         0.004097              0.004096              0.004097  0.000083\n",
       "OP_CARRIER_indexed             0.079983      0.001410     -0.003089        NaN          0.011934             0.024770       0.000602            1.000000        0.119881      0.120088         0.100058              0.100059              0.100057 -0.022266\n",
       "ORIGIN_indexed                 0.220909     -0.121237     -0.113905        NaN         -0.205367            -0.199206       0.002425            0.119881        1.000000     -0.164176         0.023812              0.023754              0.023755 -0.061795\n",
       "DEST_indexed                   0.225674      0.129927      0.082688        NaN         -0.232022            -0.226301       0.007813            0.120088       -0.164176      1.000000         0.023668              0.023729              0.023709 -0.023394\n",
       "FL_DATE_indexed                0.093118     -0.000929     -0.006736        NaN         -0.002568            -0.002379       0.004097            0.100058        0.023812      0.023668         1.000000              1.000000              1.000000 -0.017283\n",
       "CRS_DEP_TIME_indexed           0.093120     -0.000457     -0.006413        NaN         -0.002575            -0.002387       0.004096            0.100059        0.023754      0.023729         1.000000              1.000000              1.000000 -0.017215\n",
       "CRS_ARR_TIME_indexed           0.093119     -0.000590     -0.006239        NaN         -0.002555            -0.002367       0.004097            0.100057        0.023755      0.023709         1.000000              1.000000              1.000000 -0.017219\n",
       "Delayed                       -0.021921      0.143310      0.128429        NaN          0.059892             0.112584       0.000083           -0.022266       -0.061795     -0.023394        -0.017283             -0.017215             -0.017219  1.000000"
      ]
     },
     "execution_count": 30,
     "metadata": {},
     "output_type": "execute_result"
    }
   ],
   "source": [
    "corr_matrix.set_index(\"feature\")"
   ]
  },
  {
   "cell_type": "code",
   "execution_count": 31,
   "metadata": {},
   "outputs": [
    {
     "name": "stderr",
     "output_type": "stream",
     "text": [
      "2022-04-21 19:33:49,931 WARN window.WindowExec: No Partition Defined for Window operation! Moving all data to a single partition, this can cause serious performance degradation.\n",
      "2022-04-21 19:33:50,081 WARN window.WindowExec: No Partition Defined for Window operation! Moving all data to a single partition, this can cause serious performance degradation.\n"
     ]
    },
    {
     "data": {
      "text/html": [
       "<div>\n",
       "<style scoped>\n",
       "    .dataframe tbody tr th:only-of-type {\n",
       "        vertical-align: middle;\n",
       "    }\n",
       "\n",
       "    .dataframe tbody tr th {\n",
       "        vertical-align: top;\n",
       "    }\n",
       "\n",
       "    .dataframe thead th {\n",
       "        text-align: right;\n",
       "    }\n",
       "</style>\n",
       "<table border=\"1\" class=\"dataframe\">\n",
       "  <thead>\n",
       "    <tr style=\"text-align: right;\">\n",
       "      <th></th>\n",
       "      <th>Delayed</th>\n",
       "      <th>feature</th>\n",
       "    </tr>\n",
       "  </thead>\n",
       "  <tbody>\n",
       "    <tr>\n",
       "      <th>3</th>\n",
       "      <td>NaN</td>\n",
       "      <td>CANCELLED</td>\n",
       "    </tr>\n",
       "    <tr>\n",
       "      <th>13</th>\n",
       "      <td>1.000000</td>\n",
       "      <td>Delayed</td>\n",
       "    </tr>\n",
       "    <tr>\n",
       "      <th>1</th>\n",
       "      <td>0.143310</td>\n",
       "      <td>CRS_DEP_TIME</td>\n",
       "    </tr>\n",
       "    <tr>\n",
       "      <th>2</th>\n",
       "      <td>0.128429</td>\n",
       "      <td>CRS_ARR_TIME</td>\n",
       "    </tr>\n",
       "    <tr>\n",
       "      <th>5</th>\n",
       "      <td>0.112584</td>\n",
       "      <td>ACTUAL_ELAPSED_TIME</td>\n",
       "    </tr>\n",
       "    <tr>\n",
       "      <th>4</th>\n",
       "      <td>0.059892</td>\n",
       "      <td>CRS_ELAPSED_TIME</td>\n",
       "    </tr>\n",
       "    <tr>\n",
       "      <th>6</th>\n",
       "      <td>0.000083</td>\n",
       "      <td>WEATHER_DELAY</td>\n",
       "    </tr>\n",
       "    <tr>\n",
       "      <th>11</th>\n",
       "      <td>-0.017215</td>\n",
       "      <td>CRS_DEP_TIME_indexed</td>\n",
       "    </tr>\n",
       "    <tr>\n",
       "      <th>12</th>\n",
       "      <td>-0.017219</td>\n",
       "      <td>CRS_ARR_TIME_indexed</td>\n",
       "    </tr>\n",
       "    <tr>\n",
       "      <th>10</th>\n",
       "      <td>-0.017283</td>\n",
       "      <td>FL_DATE_indexed</td>\n",
       "    </tr>\n",
       "    <tr>\n",
       "      <th>0</th>\n",
       "      <td>-0.021921</td>\n",
       "      <td>OP_CARRIER_FL_NUM</td>\n",
       "    </tr>\n",
       "    <tr>\n",
       "      <th>7</th>\n",
       "      <td>-0.022266</td>\n",
       "      <td>OP_CARRIER_indexed</td>\n",
       "    </tr>\n",
       "    <tr>\n",
       "      <th>9</th>\n",
       "      <td>-0.023394</td>\n",
       "      <td>DEST_indexed</td>\n",
       "    </tr>\n",
       "    <tr>\n",
       "      <th>8</th>\n",
       "      <td>-0.061795</td>\n",
       "      <td>ORIGIN_indexed</td>\n",
       "    </tr>\n",
       "  </tbody>\n",
       "</table>\n",
       "</div>"
      ],
      "text/plain": [
       "     Delayed               feature\n",
       "3        NaN             CANCELLED\n",
       "13  1.000000               Delayed\n",
       "1   0.143310          CRS_DEP_TIME\n",
       "2   0.128429          CRS_ARR_TIME\n",
       "5   0.112584   ACTUAL_ELAPSED_TIME\n",
       "4   0.059892      CRS_ELAPSED_TIME\n",
       "6   0.000083         WEATHER_DELAY\n",
       "11 -0.017215  CRS_DEP_TIME_indexed\n",
       "12 -0.017219  CRS_ARR_TIME_indexed\n",
       "10 -0.017283       FL_DATE_indexed\n",
       "0  -0.021921     OP_CARRIER_FL_NUM\n",
       "7  -0.022266    OP_CARRIER_indexed\n",
       "9  -0.023394          DEST_indexed\n",
       "8  -0.061795        ORIGIN_indexed"
      ]
     },
     "execution_count": 31,
     "metadata": {},
     "output_type": "execute_result"
    }
   ],
   "source": [
    "DELAY_CORR = corr_matrix[[\"Delayed\", \"feature\"]].sort_values(by=\"Delayed\", ascending=False)\n",
    "DELAY_CORR"
   ]
  },
  {
   "cell_type": "markdown",
   "metadata": {},
   "source": [
    "We see that there are some features with negative correlations with respect to our target feature, so we will remove those."
   ]
  },
  {
   "cell_type": "markdown",
   "metadata": {},
   "source": [
    "High degree: If the coefficient value lies between ± 0.50 and ± 1, then it is said to be a strong correlation. Moderate degree: If the value lies between ± 0.30 and ± 0.49, then it is said to be a medium correlation. Low degree: When the value lies below + . 29, then it is said to be a small correlation."
   ]
  },
  {
   "cell_type": "markdown",
   "metadata": {},
   "source": [
    "Need to figure out if using negative treshold for correlation is a good idea. It looks like the features affecting DEP_DELAY is the ones over"
   ]
  },
  {
   "cell_type": "markdown",
   "metadata": {},
   "source": [
    "----"
   ]
  },
  {
   "cell_type": "markdown",
   "metadata": {},
   "source": [
    "Further data analysis...."
   ]
  },
  {
   "cell_type": "markdown",
   "metadata": {},
   "source": [
    "----"
   ]
  },
  {
   "cell_type": "code",
   "execution_count": null,
   "metadata": {},
   "outputs": [],
   "source": []
  },
  {
   "cell_type": "markdown",
   "metadata": {},
   "source": [
    "## What will we predict?\n",
    "\n",
    "We will be predicting flight delays based on data that is available prior to the day of the flight. <br>\n",
    "Such data could be weather, airport, airline, origin and destination, and other factors."
   ]
  },
  {
   "cell_type": "markdown",
   "metadata": {},
   "source": [
    "## TODOs:\n",
    "- [ ] - Select a regression model, and start predicting.\n",
    "- [ ] - If we are done early with that we can try to optimize the time spark / hadoop - mapreduce tasks take.\n",
    "        - [ ] - repartition the data to use right amount cores. (24 cores)"
   ]
  }
 ],
 "metadata": {
  "interpreter": {
   "hash": "916dbcbb3f70747c44a77c7bcd40155683ae19c65e1c03b4aa3499c5328201f1"
  },
  "kernelspec": {
   "display_name": "Python 3.8.10 64-bit",
   "language": "python",
   "name": "python3"
  },
  "language_info": {
   "codemirror_mode": {
    "name": "ipython",
    "version": 3
   },
   "file_extension": ".py",
   "mimetype": "text/x-python",
   "name": "python",
   "nbconvert_exporter": "python",
   "pygments_lexer": "ipython3",
   "version": "3.8.10"
  },
  "orig_nbformat": 4
 },
 "nbformat": 4,
 "nbformat_minor": 2
}
