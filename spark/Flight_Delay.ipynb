{
 "cells": [
  {
   "cell_type": "markdown",
   "metadata": {},
   "source": [
    "# DAT500 - FinalProject, Flight Delay Prediction\n",
    "\n",
    "Group Members:\n",
    "\n",
    "    - Brage Solheim\n",
    "    - Yohannes D. Kassaye"
   ]
  },
  {
   "cell_type": "markdown",
   "metadata": {},
   "source": [
    "## Introduction"
   ]
  },
  {
   "cell_type": "markdown",
   "metadata": {},
   "source": [
    "So far we have used map reduce jobs to find null values in our data, find mean and mode of each column, and fill null values with mean or mode."
   ]
  },
  {
   "cell_type": "markdown",
   "metadata": {},
   "source": [
    "We will be predicting flight delays based on data that is available prior to the day of the flight. <br>\n",
    "Such data could be weather, airport, airline, origin and destination, and other factors."
   ]
  },
  {
   "cell_type": "markdown",
   "metadata": {},
   "source": [
    "## Initlization"
   ]
  },
  {
   "cell_type": "code",
   "execution_count": 2,
   "metadata": {},
   "outputs": [
    {
     "data": {
      "text/plain": [
       "'/usr/local/spark'"
      ]
     },
     "execution_count": 2,
     "metadata": {},
     "output_type": "execute_result"
    }
   ],
   "source": [
    "import findspark\n",
    "findspark.init()\n",
    "findspark.find()"
   ]
  },
  {
   "cell_type": "code",
   "execution_count": 3,
   "metadata": {},
   "outputs": [
    {
     "name": "stderr",
     "output_type": "stream",
     "text": [
      "WARNING:root:'PYARROW_IGNORE_TIMEZONE' environment variable was not set. It is required to set this environment variable to '1' in both driver and executor sides if you use pyarrow>=2.0.0. pandas-on-Spark will set it for you but it does not work if there is a Spark context already launched.\n"
     ]
    }
   ],
   "source": [
    "from datetime import datetime, date\n",
    "import pandas as pd\n",
    "import numpy as np\n",
    "from pyspark.sql import Row\n",
    "from pyspark.sql import SparkSession\n",
    "import pyspark.pandas as ps"
   ]
  },
  {
   "cell_type": "code",
   "execution_count": 4,
   "metadata": {},
   "outputs": [],
   "source": [
    "ORIGINAL_DATA_PATH = \"hdfs:///data/airline_delay_data.csv\"\n",
    "CLEANED_DATA_PATH = \"hdfs:///data/airline_delay_data_cleaned.csv\"\n",
    "\n",
    "TEST_DATA_ORIGINAL_PATH = \"/data/2015.sample.csv\"\n",
    "TEST_DATA_CLEANED_PATH = \"/data/2015.sample.cleaned.csv\""
   ]
  },
  {
   "cell_type": "code",
   "execution_count": 5,
   "metadata": {},
   "outputs": [],
   "source": [
    "import warnings\n",
    "warnings.filterwarnings(\"ignore\")"
   ]
  },
  {
   "cell_type": "code",
   "execution_count": 6,
   "metadata": {},
   "outputs": [],
   "source": [
    "import pyspark\n",
    "conf = pyspark.SparkConf().setAll([(\"spark.driver.maxResultSize\", '4g'), (\"spark.sql.execution.arrow.pyspark.enabled\", 'true')])"
   ]
  },
  {
   "cell_type": "code",
   "execution_count": 7,
   "metadata": {},
   "outputs": [
    {
     "name": "stderr",
     "output_type": "stream",
     "text": [
      "Setting default log level to \"WARN\".\n",
      "To adjust logging level use sc.setLogLevel(newLevel). For SparkR, use setLogLevel(newLevel).\n",
      "2022-04-21 08:45:11,650 WARN util.NativeCodeLoader: Unable to load native-hadoop library for your platform... using builtin-java classes where applicable\n",
      "2022-04-21 08:45:18,896 WARN yarn.Client: Neither spark.yarn.jars nor spark.yarn.archive is set, falling back to uploading libraries under SPARK_HOME.\n"
     ]
    }
   ],
   "source": [
    "spark = (SparkSession\n",
    "            .builder\n",
    "            .master(\"yarn\") # for cluster\n",
    "            # .master(\"local[*]\") # for local testing\n",
    "            .config(conf=conf)\n",
    "            .appName(\"Flight-delay-prediction\")\n",
    "            .getOrCreate())\n",
    "\n",
    "sc = spark.sparkContext"
   ]
  },
  {
   "cell_type": "code",
   "execution_count": 8,
   "metadata": {},
   "outputs": [
    {
     "name": "stdout",
     "output_type": "stream",
     "text": [
      "[('spark.ui.proxyBase', '/proxy/application_1645016454320_0104'), ('spark.driver.port', '45379'), ('spark.sql.warehouse.dir', 'file:/home/ubuntu/DAT500-FinalProject/spark/spark-warehouse'), ('spark.executor.id', 'driver'), ('spark.app.id', 'application_1645016454320_0104'), ('spark.app.name', 'Flight-delay-prediction'), ('spark.driver.host', 'namenode'), ('spark.master', 'yarn'), ('spark.app.startTime', '1650530711442'), ('spark.executorEnv.PYTHONPATH', '/usr/local/spark/python/:<CPS>{{PWD}}/pyspark.zip<CPS>{{PWD}}/py4j-0.10.9.3-src.zip'), ('spark.rdd.compress', 'True'), ('spark.org.apache.hadoop.yarn.server.webproxy.amfilter.AmIpFilter.param.PROXY_URI_BASES', 'http://namenode:8088/proxy/application_1645016454320_0104'), ('spark.serializer.objectStreamReset', '100'), ('spark.submit.pyFiles', ''), ('spark.yarn.isPython', 'true'), ('spark.submit.deployMode', 'client'), ('spark.ui.filters', 'org.apache.hadoop.yarn.server.webproxy.amfilter.AmIpFilter'), ('spark.org.apache.hadoop.yarn.server.webproxy.amfilter.AmIpFilter.param.PROXY_HOSTS', 'namenode'), ('spark.driver.appUIAddress', 'http://namenode:4040'), ('spark.sql.execution.arrow.pyspark.enabled', 'true'), ('spark.driver.maxResultSize', '4g'), ('spark.ui.showConsoleProgress', 'true')]\n"
     ]
    }
   ],
   "source": [
    "print(sc.getConf().getAll())"
   ]
  },
  {
   "cell_type": "code",
   "execution_count": 9,
   "metadata": {},
   "outputs": [],
   "source": [
    "from pyspark.sql.types import StructType, StructField, StringType, IntegerType, DateType, DoubleType"
   ]
  },
  {
   "cell_type": "code",
   "execution_count": 10,
   "metadata": {},
   "outputs": [],
   "source": [
    "features = [\"FL_DATE\",\"OP_CARRIER\",\"OP_CARRIER_FL_NUM\",\"ORIGIN\",\"DEST\",\"CRS_DEP_TIME\",\"DEP_TIME\",\"DEP_DELAY\",\"TAXI_OUT\",\"WHEELS_OFF\",\"WHEELS_ON\",\"TAXI_IN\",\"CRS_ARR_TIME\",\"ARR_TIME\",\"ARR_DELAY\",\"CANCELLED\",\"DIVERTED\",\"CRS_ELAPSED_TIME\",\"ACTUAL_ELAPSED_TIME\",\"AIR_TIME\",\"DISTANCE\",\"CARRIER_DELAY\",\"WEATHER_DELAY\",\"NAS_DELAY\",\"SECURITY_DELAY\",\"LATE_AIRCRAFT_DELAY\"]\n",
    "nullable=False\n",
    "schema = StructType([\n",
    "    StructField(\"FL_DATE\", DateType(), nullable), StructField(\"OP_CARRIER\", StringType(), nullable), StructField(\"OP_CARRIER_FL_NUM\", DoubleType(), nullable),\n",
    "    StructField(\"ORIGIN\", StringType(), nullable), StructField(\"DEST\", StringType(), nullable), StructField(\"CRS_DEP_TIME\", DoubleType(), nullable),\n",
    "    StructField(\"DEP_TIME\", DoubleType(), nullable), StructField(\"DEP_DELAY\", DoubleType(), nullable), StructField(\"TAXI_OUT\", DoubleType(), nullable),\n",
    "    StructField(\"WHEELS_OFF\", DoubleType(), nullable), StructField(\"WHEELS_ON\", DoubleType(), nullable), StructField(\"TAXI_IN\", DoubleType(), nullable),\n",
    "    StructField(\"CRS_ARR_TIME\", DoubleType(), nullable), StructField(\"ARR_TIME\", DoubleType(), nullable), StructField(\"ARR_DELAY\", DoubleType(), nullable),\n",
    "    StructField(\"CANCELLED\", DoubleType(), nullable), StructField(\"DIVERTED\", DoubleType(), nullable), StructField(\"CRS_ELAPSED_TIME\", DoubleType(), nullable),\n",
    "    StructField(\"ACTUAL_ELAPSED_TIME\", DoubleType(), nullable), StructField(\"AIR_TIME\", DoubleType(), nullable), StructField(\"DISTANCE\", DoubleType(), nullable),\n",
    "    StructField(\"CARRIER_DELAY\", DoubleType(), nullable), StructField(\"WEATHER_DELAY\", DoubleType(), nullable), StructField(\"NAS_DELAY\", DoubleType(), nullable),\n",
    "    StructField(\"SECURITY_DELAY\", DoubleType(), nullable), StructField(\"LATE_AIRCRAFT_DELAY\", DoubleType(), nullable)])"
   ]
  },
  {
   "cell_type": "code",
   "execution_count": 11,
   "metadata": {},
   "outputs": [
    {
     "name": "stderr",
     "output_type": "stream",
     "text": [
      "2022-04-21 08:47:07,650 WARN window.WindowExec: No Partition Defined for Window operation! Moving all data to a single partition, this can cause serious performance degradation.\n",
      "2022-04-21 08:47:07,699 WARN window.WindowExec: No Partition Defined for Window operation! Moving all data to a single partition, this can cause serious performance degradation.\n",
      "2022-04-21 08:47:07,740 WARN util.package: Truncated the string representation of a plan since it was too large. This behavior can be adjusted by setting 'spark.sql.debug.maxToStringFields'.\n",
      "                                                                                \r"
     ]
    },
    {
     "data": {
      "text/html": [
       "<div>\n",
       "<style scoped>\n",
       "    .dataframe tbody tr th:only-of-type {\n",
       "        vertical-align: middle;\n",
       "    }\n",
       "\n",
       "    .dataframe tbody tr th {\n",
       "        vertical-align: top;\n",
       "    }\n",
       "\n",
       "    .dataframe thead th {\n",
       "        text-align: right;\n",
       "    }\n",
       "</style>\n",
       "<table border=\"1\" class=\"dataframe\">\n",
       "  <thead>\n",
       "    <tr style=\"text-align: right;\">\n",
       "      <th></th>\n",
       "      <th>FL_DATE</th>\n",
       "      <th>OP_CARRIER</th>\n",
       "      <th>OP_CARRIER_FL_NUM</th>\n",
       "      <th>ORIGIN</th>\n",
       "      <th>DEST</th>\n",
       "      <th>CRS_DEP_TIME</th>\n",
       "      <th>DEP_TIME</th>\n",
       "      <th>DEP_DELAY</th>\n",
       "      <th>TAXI_OUT</th>\n",
       "      <th>WHEELS_OFF</th>\n",
       "      <th>WHEELS_ON</th>\n",
       "      <th>TAXI_IN</th>\n",
       "      <th>CRS_ARR_TIME</th>\n",
       "      <th>ARR_TIME</th>\n",
       "      <th>ARR_DELAY</th>\n",
       "      <th>CANCELLED</th>\n",
       "      <th>DIVERTED</th>\n",
       "      <th>CRS_ELAPSED_TIME</th>\n",
       "      <th>ACTUAL_ELAPSED_TIME</th>\n",
       "      <th>AIR_TIME</th>\n",
       "      <th>DISTANCE</th>\n",
       "      <th>CARRIER_DELAY</th>\n",
       "      <th>WEATHER_DELAY</th>\n",
       "      <th>NAS_DELAY</th>\n",
       "      <th>SECURITY_DELAY</th>\n",
       "      <th>LATE_AIRCRAFT_DELAY</th>\n",
       "    </tr>\n",
       "  </thead>\n",
       "  <tbody>\n",
       "    <tr>\n",
       "      <th>0</th>\n",
       "      <td>2016-09-25</td>\n",
       "      <td>AA</td>\n",
       "      <td>2622.0</td>\n",
       "      <td>EGE</td>\n",
       "      <td>DFW</td>\n",
       "      <td>800.0</td>\n",
       "      <td>749.0</td>\n",
       "      <td>-11.0</td>\n",
       "      <td>11.0</td>\n",
       "      <td>800.0</td>\n",
       "      <td>1049.0</td>\n",
       "      <td>15.0</td>\n",
       "      <td>1110.0</td>\n",
       "      <td>1104.0</td>\n",
       "      <td>-6.0</td>\n",
       "      <td>0.0</td>\n",
       "      <td>0.0</td>\n",
       "      <td>130.0</td>\n",
       "      <td>135.0</td>\n",
       "      <td>109.0</td>\n",
       "      <td>721.0</td>\n",
       "      <td>19.62</td>\n",
       "      <td>3.04</td>\n",
       "      <td>15.08</td>\n",
       "      <td>0.09</td>\n",
       "      <td>24.72</td>\n",
       "    </tr>\n",
       "    <tr>\n",
       "      <th>1</th>\n",
       "      <td>2016-09-25</td>\n",
       "      <td>AA</td>\n",
       "      <td>2623.0</td>\n",
       "      <td>DFW</td>\n",
       "      <td>TPA</td>\n",
       "      <td>1830.0</td>\n",
       "      <td>1915.0</td>\n",
       "      <td>45.0</td>\n",
       "      <td>20.0</td>\n",
       "      <td>1935.0</td>\n",
       "      <td>2243.0</td>\n",
       "      <td>3.0</td>\n",
       "      <td>2155.0</td>\n",
       "      <td>2246.0</td>\n",
       "      <td>51.0</td>\n",
       "      <td>0.0</td>\n",
       "      <td>0.0</td>\n",
       "      <td>145.0</td>\n",
       "      <td>151.0</td>\n",
       "      <td>128.0</td>\n",
       "      <td>929.0</td>\n",
       "      <td>0.00</td>\n",
       "      <td>0.00</td>\n",
       "      <td>6.00</td>\n",
       "      <td>0.00</td>\n",
       "      <td>45.00</td>\n",
       "    </tr>\n",
       "    <tr>\n",
       "      <th>2</th>\n",
       "      <td>2016-09-25</td>\n",
       "      <td>AA</td>\n",
       "      <td>2625.0</td>\n",
       "      <td>MCO</td>\n",
       "      <td>DFW</td>\n",
       "      <td>935.0</td>\n",
       "      <td>930.0</td>\n",
       "      <td>-5.0</td>\n",
       "      <td>12.0</td>\n",
       "      <td>942.0</td>\n",
       "      <td>1052.0</td>\n",
       "      <td>17.0</td>\n",
       "      <td>1124.0</td>\n",
       "      <td>1109.0</td>\n",
       "      <td>-15.0</td>\n",
       "      <td>0.0</td>\n",
       "      <td>0.0</td>\n",
       "      <td>169.0</td>\n",
       "      <td>159.0</td>\n",
       "      <td>130.0</td>\n",
       "      <td>985.0</td>\n",
       "      <td>19.62</td>\n",
       "      <td>3.04</td>\n",
       "      <td>15.08</td>\n",
       "      <td>0.09</td>\n",
       "      <td>24.72</td>\n",
       "    </tr>\n",
       "    <tr>\n",
       "      <th>3</th>\n",
       "      <td>2016-09-25</td>\n",
       "      <td>AA</td>\n",
       "      <td>2626.0</td>\n",
       "      <td>DFW</td>\n",
       "      <td>FLL</td>\n",
       "      <td>1429.0</td>\n",
       "      <td>1710.0</td>\n",
       "      <td>161.0</td>\n",
       "      <td>28.0</td>\n",
       "      <td>1738.0</td>\n",
       "      <td>2054.0</td>\n",
       "      <td>4.0</td>\n",
       "      <td>1814.0</td>\n",
       "      <td>2058.0</td>\n",
       "      <td>164.0</td>\n",
       "      <td>0.0</td>\n",
       "      <td>0.0</td>\n",
       "      <td>165.0</td>\n",
       "      <td>168.0</td>\n",
       "      <td>136.0</td>\n",
       "      <td>1119.0</td>\n",
       "      <td>15.00</td>\n",
       "      <td>0.00</td>\n",
       "      <td>3.00</td>\n",
       "      <td>0.00</td>\n",
       "      <td>146.00</td>\n",
       "    </tr>\n",
       "    <tr>\n",
       "      <th>4</th>\n",
       "      <td>2016-09-25</td>\n",
       "      <td>AA</td>\n",
       "      <td>2626.0</td>\n",
       "      <td>TUS</td>\n",
       "      <td>DFW</td>\n",
       "      <td>915.0</td>\n",
       "      <td>910.0</td>\n",
       "      <td>-5.0</td>\n",
       "      <td>10.0</td>\n",
       "      <td>920.0</td>\n",
       "      <td>1337.0</td>\n",
       "      <td>14.0</td>\n",
       "      <td>1328.0</td>\n",
       "      <td>1351.0</td>\n",
       "      <td>23.0</td>\n",
       "      <td>0.0</td>\n",
       "      <td>0.0</td>\n",
       "      <td>133.0</td>\n",
       "      <td>161.0</td>\n",
       "      <td>137.0</td>\n",
       "      <td>813.0</td>\n",
       "      <td>0.00</td>\n",
       "      <td>0.00</td>\n",
       "      <td>23.00</td>\n",
       "      <td>0.00</td>\n",
       "      <td>0.00</td>\n",
       "    </tr>\n",
       "  </tbody>\n",
       "</table>\n",
       "</div>"
      ],
      "text/plain": [
       "      FL_DATE OP_CARRIER  OP_CARRIER_FL_NUM ORIGIN DEST  CRS_DEP_TIME  DEP_TIME  DEP_DELAY  TAXI_OUT  WHEELS_OFF  WHEELS_ON  TAXI_IN  CRS_ARR_TIME  ARR_TIME  ARR_DELAY  CANCELLED  DIVERTED  CRS_ELAPSED_TIME  ACTUAL_ELAPSED_TIME  AIR_TIME  DISTANCE  CARRIER_DELAY  WEATHER_DELAY  NAS_DELAY  SECURITY_DELAY  LATE_AIRCRAFT_DELAY\n",
       "0  2016-09-25         AA             2622.0    EGE  DFW         800.0     749.0      -11.0      11.0       800.0     1049.0     15.0        1110.0    1104.0       -6.0        0.0       0.0             130.0                135.0     109.0     721.0          19.62           3.04      15.08            0.09                24.72\n",
       "1  2016-09-25         AA             2623.0    DFW  TPA        1830.0    1915.0       45.0      20.0      1935.0     2243.0      3.0        2155.0    2246.0       51.0        0.0       0.0             145.0                151.0     128.0     929.0           0.00           0.00       6.00            0.00                45.00\n",
       "2  2016-09-25         AA             2625.0    MCO  DFW         935.0     930.0       -5.0      12.0       942.0     1052.0     17.0        1124.0    1109.0      -15.0        0.0       0.0             169.0                159.0     130.0     985.0          19.62           3.04      15.08            0.09                24.72\n",
       "3  2016-09-25         AA             2626.0    DFW  FLL        1429.0    1710.0      161.0      28.0      1738.0     2054.0      4.0        1814.0    2058.0      164.0        0.0       0.0             165.0                168.0     136.0    1119.0          15.00           0.00       3.00            0.00               146.00\n",
       "4  2016-09-25         AA             2626.0    TUS  DFW         915.0     910.0       -5.0      10.0       920.0     1337.0     14.0        1328.0    1351.0       23.0        0.0       0.0             133.0                161.0     137.0     813.0           0.00           0.00      23.00            0.00                 0.00"
      ]
     },
     "execution_count": 11,
     "metadata": {},
     "output_type": "execute_result"
    }
   ],
   "source": [
    "df = spark.read.csv(CLEANED_DATA_PATH, header=True, schema=schema, inferSchema=False)\n",
    "df.to_pandas_on_spark().head()"
   ]
  },
  {
   "cell_type": "code",
   "execution_count": 13,
   "metadata": {},
   "outputs": [],
   "source": [
    "df = df.repartition(24)"
   ]
  },
  {
   "cell_type": "code",
   "execution_count": 14,
   "metadata": {},
   "outputs": [],
   "source": [
    "from pyspark.sql import functions as F"
   ]
  },
  {
   "cell_type": "code",
   "execution_count": 15,
   "metadata": {},
   "outputs": [
    {
     "name": "stderr",
     "output_type": "stream",
     "text": [
      "2022-04-19 14:38:23,106 WARN window.WindowExec: No Partition Defined for Window operation! Moving all data to a single partition, this can cause serious performance degradation.\n",
      "2022-04-19 14:38:23,144 WARN window.WindowExec: No Partition Defined for Window operation! Moving all data to a single partition, this can cause serious performance degradation.\n",
      "2022-04-19 14:39:29,736 WARN window.WindowExec: No Partition Defined for Window operation! Moving all data to a single partition, this can cause serious performance degradation.\n",
      "                                                                                \r"
     ]
    },
    {
     "data": {
      "text/html": [
       "<div>\n",
       "<style scoped>\n",
       "    .dataframe tbody tr th:only-of-type {\n",
       "        vertical-align: middle;\n",
       "    }\n",
       "\n",
       "    .dataframe tbody tr th {\n",
       "        vertical-align: top;\n",
       "    }\n",
       "\n",
       "    .dataframe thead th {\n",
       "        text-align: right;\n",
       "    }\n",
       "</style>\n",
       "<table border=\"1\" class=\"dataframe\">\n",
       "  <thead>\n",
       "    <tr style=\"text-align: right;\">\n",
       "      <th></th>\n",
       "      <th>FL_DATE</th>\n",
       "      <th>OP_CARRIER</th>\n",
       "      <th>OP_CARRIER_FL_NUM</th>\n",
       "      <th>ORIGIN</th>\n",
       "      <th>DEST</th>\n",
       "      <th>CRS_DEP_TIME</th>\n",
       "      <th>DEP_TIME</th>\n",
       "      <th>DEP_DELAY</th>\n",
       "      <th>TAXI_OUT</th>\n",
       "      <th>WHEELS_OFF</th>\n",
       "      <th>WHEELS_ON</th>\n",
       "      <th>TAXI_IN</th>\n",
       "      <th>CRS_ARR_TIME</th>\n",
       "      <th>ARR_TIME</th>\n",
       "      <th>ARR_DELAY</th>\n",
       "      <th>CANCELLED</th>\n",
       "      <th>DIVERTED</th>\n",
       "      <th>CRS_ELAPSED_TIME</th>\n",
       "      <th>ACTUAL_ELAPSED_TIME</th>\n",
       "      <th>AIR_TIME</th>\n",
       "      <th>DISTANCE</th>\n",
       "      <th>CARRIER_DELAY</th>\n",
       "      <th>WEATHER_DELAY</th>\n",
       "      <th>NAS_DELAY</th>\n",
       "      <th>SECURITY_DELAY</th>\n",
       "      <th>LATE_AIRCRAFT_DELAY</th>\n",
       "    </tr>\n",
       "  </thead>\n",
       "  <tbody>\n",
       "    <tr>\n",
       "      <th>0</th>\n",
       "      <td>None</td>\n",
       "      <td>OP_CARRIER</td>\n",
       "      <td>NaN</td>\n",
       "      <td>ORIGIN</td>\n",
       "      <td>DEST</td>\n",
       "      <td>NaN</td>\n",
       "      <td>NaN</td>\n",
       "      <td>NaN</td>\n",
       "      <td>NaN</td>\n",
       "      <td>NaN</td>\n",
       "      <td>NaN</td>\n",
       "      <td>NaN</td>\n",
       "      <td>NaN</td>\n",
       "      <td>NaN</td>\n",
       "      <td>NaN</td>\n",
       "      <td>NaN</td>\n",
       "      <td>NaN</td>\n",
       "      <td>NaN</td>\n",
       "      <td>NaN</td>\n",
       "      <td>NaN</td>\n",
       "      <td>NaN</td>\n",
       "      <td>NaN</td>\n",
       "      <td>NaN</td>\n",
       "      <td>NaN</td>\n",
       "      <td>NaN</td>\n",
       "      <td>NaN</td>\n",
       "    </tr>\n",
       "  </tbody>\n",
       "</table>\n",
       "</div>"
      ],
      "text/plain": [
       "  FL_DATE  OP_CARRIER  OP_CARRIER_FL_NUM  ORIGIN  DEST  CRS_DEP_TIME  DEP_TIME  DEP_DELAY  TAXI_OUT  WHEELS_OFF  WHEELS_ON  TAXI_IN  CRS_ARR_TIME  ARR_TIME  ARR_DELAY  CANCELLED  DIVERTED  CRS_ELAPSED_TIME  ACTUAL_ELAPSED_TIME  AIR_TIME  DISTANCE  CARRIER_DELAY  WEATHER_DELAY  NAS_DELAY  SECURITY_DELAY  LATE_AIRCRAFT_DELAY\n",
       "0    None  OP_CARRIER                NaN  ORIGIN  DEST           NaN       NaN        NaN       NaN         NaN        NaN      NaN           NaN       NaN        NaN        NaN       NaN               NaN                  NaN       NaN       NaN            NaN            NaN        NaN             NaN                  NaN"
      ]
     },
     "execution_count": 15,
     "metadata": {},
     "output_type": "execute_result"
    }
   ],
   "source": [
    "header_row = df.filter(F.col(\"FL_DATE\").isNull())\n",
    "header_row.to_pandas_on_spark()"
   ]
  },
  {
   "cell_type": "markdown",
   "metadata": {},
   "source": [
    "We see that there is one row with null values do to the header being in the middle of our data, and when we infer the schema, the header row is not the same type as the rest of the rows, and therefore is converted to null."
   ]
  },
  {
   "cell_type": "code",
   "execution_count": 16,
   "metadata": {},
   "outputs": [],
   "source": [
    "df = df.filter((F.col(\"FL_DATE\").isNull() & F.col(\"OP_CARRIER\").isNotNull() & F.col(\"ORIGIN\").isNotNull() & F.col(\"DEST\").isNotNull()) == False)"
   ]
  },
  {
   "cell_type": "code",
   "execution_count": 17,
   "metadata": {},
   "outputs": [
    {
     "name": "stderr",
     "output_type": "stream",
     "text": [
      "[Stage 5:=======================================================> (35 + 1) / 36]\r"
     ]
    },
    {
     "name": "stdout",
     "output_type": "stream",
     "text": [
      "0\n"
     ]
    },
    {
     "name": "stderr",
     "output_type": "stream",
     "text": [
      "                                                                                \r"
     ]
    }
   ],
   "source": [
    "header_row = df.filter(F.col(\"FL_DATE\").isNull())\n",
    "print(header_row.count())"
   ]
  },
  {
   "cell_type": "markdown",
   "metadata": {},
   "source": [
    "Next we will encode categorical columns, because we will be using them in our model."
   ]
  },
  {
   "cell_type": "code",
   "execution_count": 18,
   "metadata": {},
   "outputs": [
    {
     "name": "stderr",
     "output_type": "stream",
     "text": [
      "[Stage 31:>                                                         (0 + 1) / 1]\r"
     ]
    },
    {
     "name": "stdout",
     "output_type": "stream",
     "text": [
      "+----------+----------+-----------------+------+----+------------+--------+---------+--------+----------+---------+-------+------------+--------+---------+---------+--------+----------------+-------------------+--------+--------+-------------+-------------+---------+--------------+-------------------+------------------+--------------+------------+\n",
      "|   FL_DATE|OP_CARRIER|OP_CARRIER_FL_NUM|ORIGIN|DEST|CRS_DEP_TIME|DEP_TIME|DEP_DELAY|TAXI_OUT|WHEELS_OFF|WHEELS_ON|TAXI_IN|CRS_ARR_TIME|ARR_TIME|ARR_DELAY|CANCELLED|DIVERTED|CRS_ELAPSED_TIME|ACTUAL_ELAPSED_TIME|AIR_TIME|DISTANCE|CARRIER_DELAY|WEATHER_DELAY|NAS_DELAY|SECURITY_DELAY|LATE_AIRCRAFT_DELAY|OP_CARRIER_indexed|ORIGIN_indexed|DEST_indexed|\n",
      "+----------+----------+-----------------+------+----+------------+--------+---------+--------+----------+---------+-------+------------+--------+---------+---------+--------+----------------+-------------------+--------+--------+-------------+-------------+---------+--------------+-------------------+------------------+--------------+------------+\n",
      "|2015-10-22|        EV|           3924.0|   IAH| GRK|      1735.0|  1731.0|     -4.0|    12.0|    1743.0|   1821.0|    3.0|      1834.0|  1824.0|    -10.0|      0.0|     0.0|            59.0|               53.0|    38.0|   166.0|        19.62|         3.04|    15.08|          0.09|              24.72|               5.0|           8.0|       167.0|\n",
      "|2016-09-19|        EV|           2804.0|   TXK| DFW|      1027.0|  1025.0|     -2.0|     2.0|    1027.0|   1102.0|   16.0|      1133.0|  1118.0|    -15.0|      0.0|     0.0|            66.0|               53.0|    35.0|   181.0|        19.62|         3.04|    15.08|          0.09|              24.72|               5.0|         259.0|         2.0|\n",
      "|2016-11-14|        OO|           7363.0|   MSP| ABR|      1124.0|  1121.0|     -3.0|    11.0|    1132.0|   1213.0|    4.0|      1244.0|  1217.0|    -27.0|      0.0|     0.0|            80.0|               56.0|    41.0|   257.0|        19.62|         3.04|    15.08|          0.09|              24.72|               3.0|          10.0|       263.0|\n",
      "|2015-10-29|        VX|            731.0|   DAL| AUS|      1030.0| 1334.09|     9.53|   16.66|   1356.56|  1466.13|   7.51|      1120.0|  1470.7|     4.37|      1.0|     0.0|            50.0|              138.7|  114.54|   189.0|        19.62|         3.04|    15.08|          0.09|              24.72|              15.0|          27.0|        32.0|\n",
      "|2015-10-24|        NK|            163.0|   ATL| BOS|      1148.0|  1146.0|     -2.0|    13.0|    1159.0|   1354.0|   10.0|      1418.0|  1404.0|    -14.0|      0.0|     0.0|           150.0|              138.0|   115.0|   946.0|        19.62|         3.04|    15.08|          0.09|              24.72|               9.0|           0.0|        14.0|\n",
      "+----------+----------+-----------------+------+----+------------+--------+---------+--------+----------+---------+-------+------------+--------+---------+---------+--------+----------------+-------------------+--------+--------+-------------+-------------+---------+--------------+-------------------+------------------+--------------+------------+\n",
      "only showing top 5 rows\n",
      "\n"
     ]
    },
    {
     "name": "stderr",
     "output_type": "stream",
     "text": [
      "                                                                                \r"
     ]
    }
   ],
   "source": [
    "from pyspark.ml import Pipeline\n",
    "from pyspark.ml.feature import StringIndexer\n",
    "\n",
    "categorical_columns = [col[0] for col in df.dtypes if col[1] == \"string\"]\n",
    "indexers = [StringIndexer(inputCol=col, outputCol=col+\"_indexed\", handleInvalid=\"keep\").fit(df) for col in categorical_columns]\n",
    "\n",
    "pipeline = Pipeline(stages=indexers)\n",
    "df_indexed = pipeline.fit(df).transform(df)\n",
    "df_indexed.show(5)"
   ]
  },
  {
   "cell_type": "markdown",
   "metadata": {},
   "source": [
    "We are also dealing with time series data, and therefore we need to encode the dates."
   ]
  },
  {
   "cell_type": "code",
   "execution_count": 20,
   "metadata": {},
   "outputs": [
    {
     "name": "stderr",
     "output_type": "stream",
     "text": [
      "[Stage 32:======================================================> (35 + 1) / 36]\r"
     ]
    },
    {
     "name": "stdout",
     "output_type": "stream",
     "text": [
      "+-------------------+----------+-----------------+------+----+------------+--------+---------+--------+----------+---------+-------+------------+--------+---------+---------+--------+----------------+-------------------+--------+--------+-------------+-------------+---------+--------------+-------------------+------------------+--------------+------------+---------------+\n",
      "|            FL_DATE|OP_CARRIER|OP_CARRIER_FL_NUM|ORIGIN|DEST|CRS_DEP_TIME|DEP_TIME|DEP_DELAY|TAXI_OUT|WHEELS_OFF|WHEELS_ON|TAXI_IN|CRS_ARR_TIME|ARR_TIME|ARR_DELAY|CANCELLED|DIVERTED|CRS_ELAPSED_TIME|ACTUAL_ELAPSED_TIME|AIR_TIME|DISTANCE|CARRIER_DELAY|WEATHER_DELAY|NAS_DELAY|SECURITY_DELAY|LATE_AIRCRAFT_DELAY|OP_CARRIER_indexed|ORIGIN_indexed|DEST_indexed|FL_DATE_indexed|\n",
      "+-------------------+----------+-----------------+------+----+------------+--------+---------+--------+----------+---------+-------+------------+--------+---------+---------+--------+----------------+-------------------+--------+--------+-------------+-------------+---------+--------------+-------------------+------------------+--------------+------------+---------------+\n",
      "|2015-10-22 00:00:00|        EV|           3924.0|   IAH| GRK|      1735.0|  1731.0|     -4.0|    12.0|    1743.0|   1821.0|    3.0|      1834.0|  1824.0|    -10.0|      0.0|     0.0|            59.0|               53.0|    38.0|   166.0|        19.62|         3.04|    15.08|          0.09|              24.72|               5.0|           8.0|       167.0|     1445472000|\n",
      "|2016-09-19 00:00:00|        EV|           2804.0|   TXK| DFW|      1027.0|  1025.0|     -2.0|     2.0|    1027.0|   1102.0|   16.0|      1133.0|  1118.0|    -15.0|      0.0|     0.0|            66.0|               53.0|    35.0|   181.0|        19.62|         3.04|    15.08|          0.09|              24.72|               5.0|         259.0|         2.0|     1474243200|\n",
      "|2016-11-14 00:00:00|        OO|           7363.0|   MSP| ABR|      1124.0|  1121.0|     -3.0|    11.0|    1132.0|   1213.0|    4.0|      1244.0|  1217.0|    -27.0|      0.0|     0.0|            80.0|               56.0|    41.0|   257.0|        19.62|         3.04|    15.08|          0.09|              24.72|               3.0|          10.0|       263.0|     1479081600|\n",
      "|2015-10-29 00:00:00|        VX|            731.0|   DAL| AUS|      1030.0| 1334.09|     9.53|   16.66|   1356.56|  1466.13|   7.51|      1120.0|  1470.7|     4.37|      1.0|     0.0|            50.0|              138.7|  114.54|   189.0|        19.62|         3.04|    15.08|          0.09|              24.72|              15.0|          27.0|        32.0|     1446076800|\n",
      "|2015-10-24 00:00:00|        NK|            163.0|   ATL| BOS|      1148.0|  1146.0|     -2.0|    13.0|    1159.0|   1354.0|   10.0|      1418.0|  1404.0|    -14.0|      0.0|     0.0|           150.0|              138.0|   115.0|   946.0|        19.62|         3.04|    15.08|          0.09|              24.72|               9.0|           0.0|        14.0|     1445644800|\n",
      "+-------------------+----------+-----------------+------+----+------------+--------+---------+--------+----------+---------+-------+------------+--------+---------+---------+--------+----------------+-------------------+--------+--------+-------------+-------------+---------+--------------+-------------------+------------------+--------------+------------+---------------+\n",
      "only showing top 5 rows\n",
      "\n"
     ]
    },
    {
     "name": "stderr",
     "output_type": "stream",
     "text": [
      "                                                                                \r"
     ]
    }
   ],
   "source": [
    "from pyspark.sql.functions import unix_timestamp\n",
    "\n",
    "df_indexed = df_indexed.withColumn(\"FL_DATE\", F.col(\"FL_DATE\").cast(\"timestamp\"))\\\n",
    "             .withColumn(\"FL_DATE_indexed\", unix_timestamp(F.col(\"FL_DATE\"), format=\"yyyy-MM-dd\"))\n",
    "df_indexed.show(5)"
   ]
  },
  {
   "cell_type": "markdown",
   "metadata": {},
   "source": [
    "## Data Analysis"
   ]
  },
  {
   "cell_type": "markdown",
   "metadata": {},
   "source": [
    "So far we have cleaned the data by removing and filling null values.\n",
    "Now we will try to find the correlation between the our target, DEP_DELAY, and the other columns."
   ]
  },
  {
   "cell_type": "code",
   "execution_count": 26,
   "metadata": {},
   "outputs": [],
   "source": [
    "from pyspark.ml.stat import Correlation\n",
    "from pyspark.ml.feature import VectorAssembler"
   ]
  },
  {
   "cell_type": "code",
   "execution_count": 27,
   "metadata": {},
   "outputs": [],
   "source": [
    "def GetCorrelationMatrix(df):\n",
    "    inputcols = [col[0] for col in df_indexed.dtypes if col[1] == \"double\" or col[1] == \"int\" or col[1] == \"bigint\"]\n",
    "    vector_col = \"features\"\n",
    "\n",
    "    assembler = VectorAssembler(inputCols=inputcols, outputCol=vector_col, handleInvalid=\"skip\")\n",
    "    df_vector = assembler.transform(df).select(vector_col)\n",
    "    matrix = Correlation.corr(df_vector, \"features\")\n",
    "\n",
    "    matrix_df = spark.createDataFrame(matrix.collect()[0][\"pearson({})\".format(vector_col)].toArray().tolist(), inputcols).to_pandas_on_spark()\n",
    "    matrix_df[\"feature\"] = inputcols\n",
    "\n",
    "    return matrix_df\n",
    "    "
   ]
  },
  {
   "cell_type": "code",
   "execution_count": 28,
   "metadata": {},
   "outputs": [
    {
     "name": "stderr",
     "output_type": "stream",
     "text": [
      "                                                                                \r"
     ]
    }
   ],
   "source": [
    "corr_matrix = GetCorrelationMatrix(df_indexed)"
   ]
  },
  {
   "cell_type": "code",
   "execution_count": 30,
   "metadata": {},
   "outputs": [
    {
     "name": "stderr",
     "output_type": "stream",
     "text": [
      "2022-04-19 15:15:27,056 WARN window.WindowExec: No Partition Defined for Window operation! Moving all data to a single partition, this can cause serious performance degradation.\n",
      "2022-04-19 15:15:27,209 WARN window.WindowExec: No Partition Defined for Window operation! Moving all data to a single partition, this can cause serious performance degradation.\n"
     ]
    },
    {
     "data": {
      "text/html": [
       "<div>\n",
       "<style scoped>\n",
       "    .dataframe tbody tr th:only-of-type {\n",
       "        vertical-align: middle;\n",
       "    }\n",
       "\n",
       "    .dataframe tbody tr th {\n",
       "        vertical-align: top;\n",
       "    }\n",
       "\n",
       "    .dataframe thead th {\n",
       "        text-align: right;\n",
       "    }\n",
       "</style>\n",
       "<table border=\"1\" class=\"dataframe\">\n",
       "  <thead>\n",
       "    <tr style=\"text-align: right;\">\n",
       "      <th></th>\n",
       "      <th>DEP_DELAY</th>\n",
       "      <th>feature</th>\n",
       "    </tr>\n",
       "  </thead>\n",
       "  <tbody>\n",
       "    <tr>\n",
       "      <th>3</th>\n",
       "      <td>1.000000</td>\n",
       "      <td>DEP_DELAY</td>\n",
       "    </tr>\n",
       "    <tr>\n",
       "      <th>10</th>\n",
       "      <td>0.947662</td>\n",
       "      <td>ARR_DELAY</td>\n",
       "    </tr>\n",
       "    <tr>\n",
       "      <th>17</th>\n",
       "      <td>0.524859</td>\n",
       "      <td>CARRIER_DELAY</td>\n",
       "    </tr>\n",
       "    <tr>\n",
       "      <th>21</th>\n",
       "      <td>0.420768</td>\n",
       "      <td>LATE_AIRCRAFT_DELAY</td>\n",
       "    </tr>\n",
       "    <tr>\n",
       "      <th>18</th>\n",
       "      <td>0.215824</td>\n",
       "      <td>WEATHER_DELAY</td>\n",
       "    </tr>\n",
       "    <tr>\n",
       "      <th>2</th>\n",
       "      <td>0.147498</td>\n",
       "      <td>DEP_TIME</td>\n",
       "    </tr>\n",
       "    <tr>\n",
       "      <th>5</th>\n",
       "      <td>0.137768</td>\n",
       "      <td>WHEELS_OFF</td>\n",
       "    </tr>\n",
       "    <tr>\n",
       "      <th>19</th>\n",
       "      <td>0.121006</td>\n",
       "      <td>NAS_DELAY</td>\n",
       "    </tr>\n",
       "    <tr>\n",
       "      <th>1</th>\n",
       "      <td>0.105527</td>\n",
       "      <td>CRS_DEP_TIME</td>\n",
       "    </tr>\n",
       "    <tr>\n",
       "      <th>8</th>\n",
       "      <td>0.090892</td>\n",
       "      <td>CRS_ARR_TIME</td>\n",
       "    </tr>\n",
       "    <tr>\n",
       "      <th>4</th>\n",
       "      <td>0.061468</td>\n",
       "      <td>TAXI_OUT</td>\n",
       "    </tr>\n",
       "    <tr>\n",
       "      <th>6</th>\n",
       "      <td>0.041366</td>\n",
       "      <td>WHEELS_ON</td>\n",
       "    </tr>\n",
       "    <tr>\n",
       "      <th>9</th>\n",
       "      <td>0.033067</td>\n",
       "      <td>ARR_TIME</td>\n",
       "    </tr>\n",
       "    <tr>\n",
       "      <th>14</th>\n",
       "      <td>0.024106</td>\n",
       "      <td>ACTUAL_ELAPSED_TIME</td>\n",
       "    </tr>\n",
       "    <tr>\n",
       "      <th>13</th>\n",
       "      <td>0.020847</td>\n",
       "      <td>CRS_ELAPSED_TIME</td>\n",
       "    </tr>\n",
       "    <tr>\n",
       "      <th>12</th>\n",
       "      <td>0.020334</td>\n",
       "      <td>DIVERTED</td>\n",
       "    </tr>\n",
       "    <tr>\n",
       "      <th>16</th>\n",
       "      <td>0.016649</td>\n",
       "      <td>DISTANCE</td>\n",
       "    </tr>\n",
       "    <tr>\n",
       "      <th>15</th>\n",
       "      <td>0.016027</td>\n",
       "      <td>AIR_TIME</td>\n",
       "    </tr>\n",
       "    <tr>\n",
       "      <th>20</th>\n",
       "      <td>0.015874</td>\n",
       "      <td>SECURITY_DELAY</td>\n",
       "    </tr>\n",
       "    <tr>\n",
       "      <th>7</th>\n",
       "      <td>0.012217</td>\n",
       "      <td>TAXI_IN</td>\n",
       "    </tr>\n",
       "    <tr>\n",
       "      <th>0</th>\n",
       "      <td>0.006036</td>\n",
       "      <td>OP_CARRIER_FL_NUM</td>\n",
       "    </tr>\n",
       "    <tr>\n",
       "      <th>11</th>\n",
       "      <td>0.005375</td>\n",
       "      <td>CANCELLED</td>\n",
       "    </tr>\n",
       "    <tr>\n",
       "      <th>25</th>\n",
       "      <td>0.004546</td>\n",
       "      <td>FL_DATE_indexed</td>\n",
       "    </tr>\n",
       "    <tr>\n",
       "      <th>22</th>\n",
       "      <td>0.001872</td>\n",
       "      <td>OP_CARRIER_indexed</td>\n",
       "    </tr>\n",
       "    <tr>\n",
       "      <th>24</th>\n",
       "      <td>-0.008482</td>\n",
       "      <td>DEST_indexed</td>\n",
       "    </tr>\n",
       "    <tr>\n",
       "      <th>23</th>\n",
       "      <td>-0.017871</td>\n",
       "      <td>ORIGIN_indexed</td>\n",
       "    </tr>\n",
       "  </tbody>\n",
       "</table>\n",
       "</div>"
      ],
      "text/plain": [
       "    DEP_DELAY              feature\n",
       "3    1.000000            DEP_DELAY\n",
       "10   0.947662            ARR_DELAY\n",
       "17   0.524859        CARRIER_DELAY\n",
       "21   0.420768  LATE_AIRCRAFT_DELAY\n",
       "18   0.215824        WEATHER_DELAY\n",
       "2    0.147498             DEP_TIME\n",
       "5    0.137768           WHEELS_OFF\n",
       "19   0.121006            NAS_DELAY\n",
       "1    0.105527         CRS_DEP_TIME\n",
       "8    0.090892         CRS_ARR_TIME\n",
       "4    0.061468             TAXI_OUT\n",
       "6    0.041366            WHEELS_ON\n",
       "9    0.033067             ARR_TIME\n",
       "14   0.024106  ACTUAL_ELAPSED_TIME\n",
       "13   0.020847     CRS_ELAPSED_TIME\n",
       "12   0.020334             DIVERTED\n",
       "16   0.016649             DISTANCE\n",
       "15   0.016027             AIR_TIME\n",
       "20   0.015874       SECURITY_DELAY\n",
       "7    0.012217              TAXI_IN\n",
       "0    0.006036    OP_CARRIER_FL_NUM\n",
       "11   0.005375            CANCELLED\n",
       "25   0.004546      FL_DATE_indexed\n",
       "22   0.001872   OP_CARRIER_indexed\n",
       "24  -0.008482         DEST_indexed\n",
       "23  -0.017871       ORIGIN_indexed"
      ]
     },
     "execution_count": 30,
     "metadata": {},
     "output_type": "execute_result"
    }
   ],
   "source": [
    "DEP_DELAY_CORR = corr_matrix[[\"DEP_DELAY\", \"feature\"]].sort_values(by=\"DEP_DELAY\", ascending=False)\n",
    "DEP_DELAY_CORR"
   ]
  },
  {
   "cell_type": "markdown",
   "metadata": {},
   "source": [
    "We see that there are some features with negative correlations with respect to our target feature, so we will remove those."
   ]
  },
  {
   "cell_type": "markdown",
   "metadata": {},
   "source": [
    "High degree: If the coefficient value lies between ± 0.50 and ± 1, then it is said to be a strong correlation. Moderate degree: If the value lies between ± 0.30 and ± 0.49, then it is said to be a medium correlation. Low degree: When the value lies below + . 29, then it is said to be a small correlation."
   ]
  },
  {
   "cell_type": "code",
   "execution_count": 31,
   "metadata": {},
   "outputs": [
    {
     "name": "stderr",
     "output_type": "stream",
     "text": [
      "2022-04-19 15:16:43,568 WARN window.WindowExec: No Partition Defined for Window operation! Moving all data to a single partition, this can cause serious performance degradation.\n",
      "2022-04-19 15:16:43,712 WARN window.WindowExec: No Partition Defined for Window operation! Moving all data to a single partition, this can cause serious performance degradation.\n",
      "                                                                                \r"
     ]
    },
    {
     "data": {
      "text/html": [
       "<div>\n",
       "<style scoped>\n",
       "    .dataframe tbody tr th:only-of-type {\n",
       "        vertical-align: middle;\n",
       "    }\n",
       "\n",
       "    .dataframe tbody tr th {\n",
       "        vertical-align: top;\n",
       "    }\n",
       "\n",
       "    .dataframe thead th {\n",
       "        text-align: right;\n",
       "    }\n",
       "</style>\n",
       "<table border=\"1\" class=\"dataframe\">\n",
       "  <thead>\n",
       "    <tr style=\"text-align: right;\">\n",
       "      <th></th>\n",
       "      <th>DEP_DELAY</th>\n",
       "      <th>feature</th>\n",
       "    </tr>\n",
       "  </thead>\n",
       "  <tbody>\n",
       "    <tr>\n",
       "      <th>3</th>\n",
       "      <td>1.000000</td>\n",
       "      <td>DEP_DELAY</td>\n",
       "    </tr>\n",
       "    <tr>\n",
       "      <th>10</th>\n",
       "      <td>0.947662</td>\n",
       "      <td>ARR_DELAY</td>\n",
       "    </tr>\n",
       "    <tr>\n",
       "      <th>17</th>\n",
       "      <td>0.524859</td>\n",
       "      <td>CARRIER_DELAY</td>\n",
       "    </tr>\n",
       "  </tbody>\n",
       "</table>\n",
       "</div>"
      ],
      "text/plain": [
       "    DEP_DELAY        feature\n",
       "3    1.000000      DEP_DELAY\n",
       "10   0.947662      ARR_DELAY\n",
       "17   0.524859  CARRIER_DELAY"
      ]
     },
     "execution_count": 31,
     "metadata": {},
     "output_type": "execute_result"
    }
   ],
   "source": [
    "DEP_DELAY_CORR.loc[DEP_DELAY_CORR[\"DEP_DELAY\"] > 0.5]"
   ]
  },
  {
   "cell_type": "markdown",
   "metadata": {},
   "source": [
    "Need to figure out if using negative treshold for correlation is a good idea. It looks like the features affecting DEP_DELAY is the ones over"
   ]
  },
  {
   "cell_type": "markdown",
   "metadata": {},
   "source": [
    "----"
   ]
  },
  {
   "cell_type": "markdown",
   "metadata": {},
   "source": [
    "Further data analysis...."
   ]
  },
  {
   "cell_type": "markdown",
   "metadata": {},
   "source": [
    "----"
   ]
  },
  {
   "cell_type": "code",
   "execution_count": null,
   "metadata": {},
   "outputs": [],
   "source": []
  },
  {
   "cell_type": "markdown",
   "metadata": {},
   "source": [
    "## What will we predict?\n",
    "\n",
    "We will be predicting flight delays based on data that is available prior to the day of the flight. <br>\n",
    "Such data could be weather, airport, airline, origin and destination, and other factors."
   ]
  },
  {
   "cell_type": "markdown",
   "metadata": {},
   "source": [
    "## TODOs:\n",
    "- [ ] - Select a regression model, and start predicting.\n",
    "- [ ] - If we are done early with that we can try to optimize the time spark / hadoop - mapreduce tasks take.\n",
    "        - [ ] - repartition the data to use right amount cores. (24 cores)"
   ]
  }
 ],
 "metadata": {
  "interpreter": {
   "hash": "916dbcbb3f70747c44a77c7bcd40155683ae19c65e1c03b4aa3499c5328201f1"
  },
  "kernelspec": {
   "display_name": "Python 3.8.10 64-bit",
   "language": "python",
   "name": "python3"
  },
  "language_info": {
   "codemirror_mode": {
    "name": "ipython",
    "version": 3
   },
   "file_extension": ".py",
   "mimetype": "text/x-python",
   "name": "python",
   "nbconvert_exporter": "python",
   "pygments_lexer": "ipython3",
   "version": "3.8.10"
  },
  "orig_nbformat": 4
 },
 "nbformat": 4,
 "nbformat_minor": 2
}
